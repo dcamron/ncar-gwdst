{
 "cells": [
  {
   "cell_type": "markdown",
   "metadata": {},
   "source": [
    "# Clouds\n",
    "\n",
    "##### A GWDST project to analyze and visualize modeled cloud features, particularly variability and extremes."
   ]
  },
  {
   "cell_type": "code",
   "execution_count": 1,
   "metadata": {
    "collapsed": true
   },
   "outputs": [],
   "source": [
    "%matplotlib inline\n",
    "\n",
    "#import warnings\n",
    "#warnings.filterwarnings('ignore')\n",
    "\n",
    "import numpy as np\n",
    "import pandas as pd\n",
    "import xarray as xr\n",
    "import matplotlib.pyplot as plt\n",
    "import seaborn as sns\n",
    "import cartopy.crs as ccrs\n",
    "\n",
    "sns.set(context='talk', palette='colorblind')"
   ]
  },
  {
   "cell_type": "code",
   "execution_count": 2,
   "metadata": {},
   "outputs": [
    {
     "data": {
      "text/plain": [
       "<xarray.Dataset>\n",
       "Dimensions:          (ilev: 71, lat: 42, lev: 70, lon: 288, nbnd: 2, time: 744)\n",
       "Coordinates:\n",
       "  * lat              (lat) float64 -19.32 -18.38 -17.43 -16.49 -15.55 -14.61 ...\n",
       "  * lon              (lon) float64 0.0 1.25 2.5 3.75 5.0 6.25 7.5 8.75 10.0 ...\n",
       "  * lev              (lev) float64 5.96e-06 9.827e-06 1.62e-05 2.671e-05 ...\n",
       "  * ilev             (ilev) float64 4.5e-06 7.42e-06 1.223e-05 2.017e-05 ...\n",
       "  * time             (time) datetime64[ns] 2002-07-01 2002-07-01T00:59:59 ...\n",
       "Dimensions without coordinates: nbnd\n",
       "Data variables:\n",
       "    gw               (time, lat) float64 0.01552 0.01561 0.01569 0.01577 ...\n",
       "    hyam             (time, lev) float64 5.96e-09 9.827e-09 1.62e-08 ...\n",
       "    hybm             (time, lev) float64 0.0 0.0 0.0 0.0 0.0 0.0 0.0 0.0 0.0 ...\n",
       "    P0               (time) float64 1e+05 1e+05 1e+05 1e+05 1e+05 1e+05 ...\n",
       "    hyai             (time, ilev) float64 4.5e-09 7.42e-09 1.223e-08 ...\n",
       "    hybi             (time, ilev) float64 0.0 0.0 0.0 0.0 0.0 0.0 0.0 0.0 ...\n",
       "    date             (time) int32 20020701 20020701 20020701 20020701 ...\n",
       "    datesec          (time) int32 0 3600 7200 10800 14400 18000 21600 25200 ...\n",
       "    time_bnds        (time, nbnd) float64 46.96 47.0 47.0 47.04 47.04 47.08 ...\n",
       "    date_written     (time) |S8 b'07/20/17' b'07/20/17' b'07/20/17' ...\n",
       "    time_written     (time) |S8 b'14:13:27' b'14:13:31' b'14:13:35' ...\n",
       "    ndbase           (time) int64 0 0 0 0 0 0 0 0 0 0 0 0 0 0 0 0 0 0 0 0 0 ...\n",
       "    nsbase           (time) int64 0 0 0 0 0 0 0 0 0 0 0 0 0 0 0 0 0 0 0 0 0 ...\n",
       "    nbdate           (time) int64 20020515 20020515 20020515 20020515 ...\n",
       "    nbsec            (time) int64 0 0 0 0 0 0 0 0 0 0 0 0 0 0 0 0 0 0 0 0 0 ...\n",
       "    mdt              (time) int64 1800 1800 1800 1800 1800 1800 1800 1800 ...\n",
       "    ndcur            (time) int32 47 47 47 47 47 47 47 47 47 47 47 47 47 47 ...\n",
       "    nscur            (time) int32 0 3600 7200 10800 14400 18000 21600 25200 ...\n",
       "    co2vmr           (time) float64 0.000372 0.000372 0.000372 0.000372 ...\n",
       "    ch4vmr           (time) float64 1.771e-06 1.771e-06 1.771e-06 1.771e-06 ...\n",
       "    n2ovmr           (time) float64 3.17e-07 3.17e-07 3.17e-07 3.17e-07 ...\n",
       "    f11vmr           (time) float64 2.575e-10 2.575e-10 2.575e-10 2.575e-10 ...\n",
       "    f12vmr           (time) float64 5.434e-10 5.434e-10 5.434e-10 5.434e-10 ...\n",
       "    sol_tsi          (time) float64 -1.0 -1.0 -1.0 -1.0 -1.0 -1.0 -1.0 -1.0 ...\n",
       "    f107             (time) float64 152.3 152.3 152.3 152.3 152.3 152.3 ...\n",
       "    f107a            (time) float64 168.0 168.0 168.0 168.0 168.0 168.0 ...\n",
       "    kp               (time) float64 2.713 2.713 2.713 2.713 2.713 2.713 ...\n",
       "    ap               (time) float64 13.5 13.5 13.5 13.5 13.5 13.5 13.5 13.5 ...\n",
       "    nsteph           (time) int32 2256 2258 2260 2262 2264 2266 2268 2270 ...\n",
       "    BTAUXSn01        (time, lev, lat, lon) float32 0.0 0.0 0.0 0.0 0.0 0.0 ...\n",
       "    BTAUXSn02        (time, lev, lat, lon) float32 0.0 0.0 0.0 0.0 0.0 0.0 ...\n",
       "    BTAUXSn03        (time, lev, lat, lon) float32 0.0 0.0 0.0 0.0 0.0 0.0 ...\n",
       "    BTAUXSn04        (time, lev, lat, lon) float32 0.0 0.0 0.0 0.0 0.0 0.0 ...\n",
       "    BTAUXSn05        (time, lev, lat, lon) float32 0.0 0.0 0.0 0.0 0.0 0.0 ...\n",
       "    BTAUXSn06        (time, lev, lat, lon) float32 0.0 0.0 0.0 0.0 0.0 0.0 ...\n",
       "    BTAUXSn07        (time, lev, lat, lon) float32 0.0 0.0 0.0 0.0 0.0 0.0 ...\n",
       "    BTAUXSn08        (time, lev, lat, lon) float32 0.0 0.0 0.0 0.0 0.0 0.0 ...\n",
       "    BTAUXSn09        (time, lev, lat, lon) float32 0.0 0.0 0.0 0.0 0.0 0.0 ...\n",
       "    BTAUXSn10        (time, lev, lat, lon) float32 0.0 0.0 0.0 0.0 0.0 0.0 ...\n",
       "    BTAUXSn11        (time, lev, lat, lon) float32 0.0 0.0 0.0 0.0 0.0 0.0 ...\n",
       "    BTAUXSn12        (time, lev, lat, lon) float32 0.0 0.0 0.0 0.0 0.0 0.0 ...\n",
       "    BTAUXSn13        (time, lev, lat, lon) float32 0.0 0.0 0.0 0.0 0.0 0.0 ...\n",
       "    BTAUXSn14        (time, lev, lat, lon) float32 0.0 0.0 0.0 0.0 0.0 0.0 ...\n",
       "    BTAUXSn15        (time, lev, lat, lon) float32 0.0 0.0 0.0 0.0 0.0 0.0 ...\n",
       "    BTAUXSn16        (time, lev, lat, lon) float32 0.0 0.0 0.0 0.0 0.0 0.0 ...\n",
       "    BTAUXSn17        (time, lev, lat, lon) float32 0.0 0.0 0.0 0.0 0.0 0.0 ...\n",
       "    BTAUXSn18        (time, lev, lat, lon) float32 0.0 0.0 0.0 0.0 0.0 0.0 ...\n",
       "    BTAUXSn19        (time, lev, lat, lon) float32 0.0 0.0 0.0 0.0 0.0 0.0 ...\n",
       "    BTAUXSn20        (time, lev, lat, lon) float32 0.0 0.0 0.0 0.0 0.0 0.0 ...\n",
       "    BTAUXSn21        (time, lev, lat, lon) float32 0.0 0.0 0.0 0.0 0.0 0.0 ...\n",
       "    BTAUXSn22        (time, lev, lat, lon) float32 0.0 0.0 0.0 0.0 0.0 0.0 ...\n",
       "    BTAUXSn23        (time, lev, lat, lon) float32 0.0 0.0 0.0 0.0 0.0 0.0 ...\n",
       "    BTAUXSn24        (time, lev, lat, lon) float32 0.0 0.0 0.0 0.0 0.0 0.0 ...\n",
       "    BTAUXSn25        (time, lev, lat, lon) float32 0.0 0.0 0.0 0.0 0.0 0.0 ...\n",
       "    BTAUXSn26        (time, lev, lat, lon) float32 0.0 0.0 0.0 0.0 0.0 0.0 ...\n",
       "    BTAUXSn27        (time, lev, lat, lon) float32 0.0 0.0 0.0 0.0 0.0 0.0 ...\n",
       "    BTAUXSn28        (time, lev, lat, lon) float32 0.0 0.0 0.0 0.0 0.0 0.0 ...\n",
       "    BTAUXSn29        (time, lev, lat, lon) float32 0.0 0.0 0.0 0.0 0.0 0.0 ...\n",
       "    BTAUXSn30        (time, lev, lat, lon) float32 0.0 0.0 0.0 0.0 0.0 0.0 ...\n",
       "    BTAUXSn31        (time, lev, lat, lon) float32 0.0 0.0 0.0 0.0 0.0 0.0 ...\n",
       "    BTAUXSn32        (time, lev, lat, lon) float32 0.0 0.0 0.0 0.0 0.0 0.0 ...\n",
       "    BTAUXSp01        (time, lev, lat, lon) float32 0.0 0.0 0.0 0.0 0.0 0.0 ...\n",
       "    BTAUXSp02        (time, lev, lat, lon) float32 0.0 0.0 0.0 0.0 0.0 0.0 ...\n",
       "    BTAUXSp03        (time, lev, lat, lon) float32 0.0 0.0 0.0 0.0 0.0 0.0 ...\n",
       "    BTAUXSp04        (time, lev, lat, lon) float32 0.0 0.0 0.0 0.0 0.0 0.0 ...\n",
       "    BTAUXSp05        (time, lev, lat, lon) float32 0.0 0.0 0.0 0.0 0.0 0.0 ...\n",
       "    BTAUXSp06        (time, lev, lat, lon) float32 0.0 0.0 0.0 0.0 0.0 0.0 ...\n",
       "    BTAUXSp07        (time, lev, lat, lon) float32 0.0 0.0 0.0 0.0 0.0 0.0 ...\n",
       "    BTAUXSp08        (time, lev, lat, lon) float32 0.0 0.0 0.0 0.0 0.0 0.0 ...\n",
       "    BTAUXSp09        (time, lev, lat, lon) float32 0.0 0.0 0.0 0.0 0.0 0.0 ...\n",
       "    BTAUXSp10        (time, lev, lat, lon) float32 0.0 0.0 0.0 0.0 0.0 0.0 ...\n",
       "    BTAUXSp11        (time, lev, lat, lon) float32 0.0 0.0 0.0 0.0 0.0 0.0 ...\n",
       "    BTAUXSp12        (time, lev, lat, lon) float32 0.0 0.0 0.0 0.0 0.0 0.0 ...\n",
       "    BTAUXSp13        (time, lev, lat, lon) float32 0.0 0.0 0.0 0.0 0.0 0.0 ...\n",
       "    BTAUXSp14        (time, lev, lat, lon) float32 0.0 0.0 0.0 0.0 0.0 0.0 ...\n",
       "    BTAUXSp15        (time, lev, lat, lon) float32 0.0 0.0 0.0 0.0 0.0 0.0 ...\n",
       "    BTAUXSp16        (time, lev, lat, lon) float32 0.0 0.0 0.0 0.0 0.0 0.0 ...\n",
       "    BTAUXSp17        (time, lev, lat, lon) float32 0.0 0.0 0.0 0.0 0.0 0.0 ...\n",
       "    BTAUXSp18        (time, lev, lat, lon) float32 0.0 0.0 0.0 0.0 0.0 0.0 ...\n",
       "    BTAUXSp19        (time, lev, lat, lon) float32 0.0 0.0 0.0 0.0 0.0 0.0 ...\n",
       "    BTAUXSp20        (time, lev, lat, lon) float32 0.0 0.0 0.0 0.0 0.0 0.0 ...\n",
       "    BTAUXSp21        (time, lev, lat, lon) float32 0.0 0.0 0.0 0.0 0.0 0.0 ...\n",
       "    BTAUXSp22        (time, lev, lat, lon) float32 0.0 0.0 0.0 0.0 0.0 0.0 ...\n",
       "    BTAUXSp23        (time, lev, lat, lon) float32 0.0 0.0 0.0 0.0 0.0 0.0 ...\n",
       "    BTAUXSp24        (time, lev, lat, lon) float32 0.0 0.0 0.0 0.0 0.0 0.0 ...\n",
       "    BTAUXSp25        (time, lev, lat, lon) float32 0.0 0.0 0.0 0.0 0.0 0.0 ...\n",
       "    BTAUXSp26        (time, lev, lat, lon) float32 0.0 0.0 0.0 0.0 0.0 0.0 ...\n",
       "    BTAUXSp27        (time, lev, lat, lon) float32 0.0 0.0 0.0 0.0 0.0 0.0 ...\n",
       "    BTAUXSp28        (time, lev, lat, lon) float32 0.0 0.0 0.0 0.0 0.0 0.0 ...\n",
       "    BTAUXSp29        (time, lev, lat, lon) float32 0.0 0.0 0.0 0.0 0.0 0.0 ...\n",
       "    BTAUXSp30        (time, lev, lat, lon) float32 0.0 0.0 0.0 0.0 0.0 0.0 ...\n",
       "    BTAUXSp31        (time, lev, lat, lon) float32 0.0 0.0 0.0 0.0 0.0 0.0 ...\n",
       "    BTAUXSp32        (time, lev, lat, lon) float32 0.0 0.0 0.0 0.0 0.0 0.0 ...\n",
       "    BTAUYSn01        (time, lev, lat, lon) float32 0.0 0.0 0.0 0.0 0.0 0.0 ...\n",
       "    BTAUYSn02        (time, lev, lat, lon) float32 0.0 0.0 0.0 0.0 0.0 0.0 ...\n",
       "    BTAUYSn03        (time, lev, lat, lon) float32 0.0 0.0 0.0 0.0 0.0 0.0 ...\n",
       "    BTAUYSn04        (time, lev, lat, lon) float32 0.0 0.0 0.0 0.0 0.0 0.0 ...\n",
       "    BTAUYSn05        (time, lev, lat, lon) float32 0.0 0.0 0.0 0.0 0.0 0.0 ...\n",
       "    BTAUYSn06        (time, lev, lat, lon) float32 0.0 0.0 0.0 0.0 0.0 0.0 ...\n",
       "    BTAUYSn07        (time, lev, lat, lon) float32 0.0 0.0 0.0 0.0 0.0 0.0 ...\n",
       "    BTAUYSn08        (time, lev, lat, lon) float32 0.0 0.0 0.0 0.0 0.0 0.0 ...\n",
       "    BTAUYSn09        (time, lev, lat, lon) float32 0.0 0.0 0.0 0.0 0.0 0.0 ...\n",
       "    BTAUYSn10        (time, lev, lat, lon) float32 0.0 0.0 0.0 0.0 0.0 0.0 ...\n",
       "    BTAUYSn11        (time, lev, lat, lon) float32 0.0 0.0 0.0 0.0 0.0 0.0 ...\n",
       "    BTAUYSn12        (time, lev, lat, lon) float32 0.0 0.0 0.0 0.0 0.0 0.0 ...\n",
       "    BTAUYSn13        (time, lev, lat, lon) float32 0.0 0.0 0.0 0.0 0.0 0.0 ...\n",
       "    BTAUYSn14        (time, lev, lat, lon) float32 0.0 0.0 0.0 0.0 0.0 0.0 ...\n",
       "    BTAUYSn15        (time, lev, lat, lon) float32 0.0 0.0 0.0 0.0 0.0 0.0 ...\n",
       "    BTAUYSn16        (time, lev, lat, lon) float32 0.0 0.0 0.0 0.0 0.0 0.0 ...\n",
       "    BTAUYSn17        (time, lev, lat, lon) float32 0.0 0.0 0.0 0.0 0.0 0.0 ...\n",
       "    BTAUYSn18        (time, lev, lat, lon) float32 0.0 0.0 0.0 0.0 0.0 0.0 ...\n",
       "    BTAUYSn19        (time, lev, lat, lon) float32 0.0 0.0 0.0 0.0 0.0 0.0 ...\n",
       "    BTAUYSn20        (time, lev, lat, lon) float32 0.0 0.0 0.0 0.0 0.0 0.0 ...\n",
       "    BTAUYSn21        (time, lev, lat, lon) float32 0.0 0.0 0.0 0.0 0.0 0.0 ...\n",
       "    BTAUYSn22        (time, lev, lat, lon) float32 0.0 0.0 0.0 0.0 0.0 0.0 ...\n",
       "    BTAUYSn23        (time, lev, lat, lon) float32 0.0 0.0 0.0 0.0 0.0 0.0 ...\n",
       "    BTAUYSn24        (time, lev, lat, lon) float32 0.0 0.0 0.0 0.0 0.0 0.0 ...\n",
       "    BTAUYSn25        (time, lev, lat, lon) float32 0.0 0.0 0.0 0.0 0.0 0.0 ...\n",
       "    BTAUYSn26        (time, lev, lat, lon) float32 0.0 0.0 0.0 0.0 0.0 0.0 ...\n",
       "    BTAUYSn27        (time, lev, lat, lon) float32 0.0 0.0 0.0 0.0 0.0 0.0 ...\n",
       "    BTAUYSn28        (time, lev, lat, lon) float32 0.0 0.0 0.0 0.0 0.0 0.0 ...\n",
       "    BTAUYSn29        (time, lev, lat, lon) float32 0.0 0.0 0.0 0.0 0.0 0.0 ...\n",
       "    BTAUYSn30        (time, lev, lat, lon) float32 0.0 0.0 0.0 0.0 0.0 0.0 ...\n",
       "    BTAUYSn31        (time, lev, lat, lon) float32 0.0 0.0 0.0 0.0 0.0 0.0 ...\n",
       "    BTAUYSn32        (time, lev, lat, lon) float32 0.0 0.0 0.0 0.0 0.0 0.0 ...\n",
       "    BTAUYSp01        (time, lev, lat, lon) float32 0.0 0.0 0.0 0.0 0.0 0.0 ...\n",
       "    BTAUYSp02        (time, lev, lat, lon) float32 0.0 0.0 0.0 0.0 0.0 0.0 ...\n",
       "    BTAUYSp03        (time, lev, lat, lon) float32 0.0 0.0 0.0 0.0 0.0 0.0 ...\n",
       "    BTAUYSp04        (time, lev, lat, lon) float32 0.0 0.0 0.0 0.0 0.0 0.0 ...\n",
       "    BTAUYSp05        (time, lev, lat, lon) float32 0.0 0.0 0.0 0.0 0.0 0.0 ...\n",
       "    BTAUYSp06        (time, lev, lat, lon) float32 0.0 0.0 0.0 0.0 0.0 0.0 ...\n",
       "    BTAUYSp07        (time, lev, lat, lon) float32 0.0 0.0 0.0 0.0 0.0 0.0 ...\n",
       "    BTAUYSp08        (time, lev, lat, lon) float32 0.0 0.0 0.0 0.0 0.0 0.0 ...\n",
       "    BTAUYSp09        (time, lev, lat, lon) float32 0.0 0.0 0.0 0.0 0.0 0.0 ...\n",
       "    BTAUYSp10        (time, lev, lat, lon) float32 0.0 0.0 0.0 0.0 0.0 0.0 ...\n",
       "    BTAUYSp11        (time, lev, lat, lon) float32 0.0 0.0 0.0 0.0 0.0 0.0 ...\n",
       "    BTAUYSp12        (time, lev, lat, lon) float32 0.0 0.0 0.0 0.0 0.0 0.0 ...\n",
       "    BTAUYSp13        (time, lev, lat, lon) float32 0.0 0.0 0.0 0.0 0.0 0.0 ...\n",
       "    BTAUYSp14        (time, lev, lat, lon) float32 0.0 0.0 0.0 0.0 0.0 0.0 ...\n",
       "    BTAUYSp15        (time, lev, lat, lon) float32 0.0 0.0 0.0 0.0 0.0 0.0 ...\n",
       "    BTAUYSp16        (time, lev, lat, lon) float32 0.0 0.0 0.0 0.0 0.0 0.0 ...\n",
       "    BTAUYSp17        (time, lev, lat, lon) float32 0.0 0.0 0.0 0.0 0.0 0.0 ...\n",
       "    BTAUYSp18        (time, lev, lat, lon) float32 0.0 0.0 0.0 0.0 0.0 0.0 ...\n",
       "    BTAUYSp19        (time, lev, lat, lon) float32 0.0 0.0 0.0 0.0 0.0 0.0 ...\n",
       "    BTAUYSp20        (time, lev, lat, lon) float32 0.0 0.0 0.0 0.0 0.0 0.0 ...\n",
       "    BTAUYSp21        (time, lev, lat, lon) float32 0.0 0.0 0.0 0.0 0.0 0.0 ...\n",
       "    BTAUYSp22        (time, lev, lat, lon) float32 0.0 0.0 0.0 0.0 0.0 0.0 ...\n",
       "    BTAUYSp23        (time, lev, lat, lon) float32 0.0 0.0 0.0 0.0 0.0 0.0 ...\n",
       "    BTAUYSp24        (time, lev, lat, lon) float32 0.0 0.0 0.0 0.0 0.0 0.0 ...\n",
       "    BTAUYSp25        (time, lev, lat, lon) float32 0.0 0.0 0.0 0.0 0.0 0.0 ...\n",
       "    BTAUYSp26        (time, lev, lat, lon) float32 0.0 0.0 0.0 0.0 0.0 0.0 ...\n",
       "    BTAUYSp27        (time, lev, lat, lon) float32 0.0 0.0 0.0 0.0 0.0 0.0 ...\n",
       "    BTAUYSp28        (time, lev, lat, lon) float32 0.0 0.0 0.0 0.0 0.0 0.0 ...\n",
       "    BTAUYSp29        (time, lev, lat, lon) float32 0.0 0.0 0.0 0.0 0.0 0.0 ...\n",
       "    BTAUYSp30        (time, lev, lat, lon) float32 0.0 0.0 0.0 0.0 0.0 0.0 ...\n",
       "    BTAUYSp31        (time, lev, lat, lon) float32 0.0 0.0 0.0 0.0 0.0 0.0 ...\n",
       "    BTAUYSp32        (time, lev, lat, lon) float32 0.0 0.0 0.0 0.0 0.0 0.0 ...\n",
       "    CLOUDFRAC_CLUBB  (time, lev, lat, lon) float32 0.0 0.0 0.0 0.0 0.0 0.0 ...\n",
       "    MPDT             (time, lev, lat, lon) float32 0.0 0.0 0.0 0.0 0.0 0.0 ...\n",
       "    OMEGA            (time, lev, lat, lon) float32 -6.18894e-09 -5.17793e-09 ...\n",
       "    PCONVT           (time, lat, lon) float32 102118.0 102067.0 102008.0 ...\n",
       "    PRECC            (time, lat, lon) float32 0.0 0.0 0.0 0.0 0.0 0.0 0.0 ...\n",
       "    PRECL            (time, lat, lon) float32 7.91e-10 2.29505e-10 ...\n",
       "    PRECT            (time, lat, lon) float32 7.91e-10 2.29505e-10 ...\n",
       "    PS               (time, lat, lon) float32 102118.0 102067.0 102008.0 ...\n",
       "    STEND_CLUBB      (time, lev, lat, lon) float32 0.0 0.0 0.0 0.0 0.0 0.0 ...\n",
       "    T                (time, lev, lat, lon) float32 629.587 627.857 626.355 ...\n",
       "    U                (time, lev, lat, lon) float32 36.0273 41.8635 45.7809 ...\n",
       "    V                (time, lev, lat, lon) float32 -60.8477 -58.2628 ...\n",
       "    ZMDT             (time, lev, lat, lon) float32 0.0 0.0 0.0 0.0 0.0 0.0 ...\n",
       "Attributes:\n",
       "    Conventions:       CF-1.0\n",
       "    source:            CAM\n",
       "    case:              f.c54120.FWscHIST.f09_f09.gwdst\n",
       "    title:             UNSET\n",
       "    logname:           mcamron\n",
       "    host:              cheyenne4\n",
       "    Version:           $Name$\n",
       "    revision_Id:       $Id$\n",
       "    initial_file:      /glade/p/cesmdata/cseg/inputdata/atm/waccm/ic/f.e20.FW...\n",
       "    topography_file:   /glade/p/cesmdata/cseg/inputdata/atm/cam/topo/fv_0.9x1...\n",
       "    time_period_freq:  hour_1"
      ]
     },
     "execution_count": 2,
     "metadata": {},
     "output_type": "execute_result"
    }
   ],
   "source": [
    "ds = xr.open_mfdataset('/glade/scratch/mcamron/archive/f.c54120.FWscHIST.f09_f09.gwdst/atm/hist/f.c54120.FWscHIST.f09_f09.gwdst.cam.h1.2002-07-*.nc')\n",
    "ds = ds.sel(lat=slice(-20,20))\n",
    "ds"
   ]
  },
  {
   "cell_type": "code",
   "execution_count": 10,
   "metadata": {
    "scrolled": false
   },
   "outputs": [],
   "source": [
    "pconvt = 7000 * np.log(ds.PS / ds.PCONVT)    # Converting from pressure to height estimate"
   ]
  },
  {
   "cell_type": "code",
   "execution_count": 18,
   "metadata": {},
   "outputs": [
    {
     "data": {
      "image/png": "[encoded data removed]",
      "text/plain": [
       "<matplotlib.figure.Figure at 0x2aaaf59efcf8>"
      ]
     },
     "metadata": {},
     "output_type": "display_data"
    }
   ],
   "source": [
    "with sns.axes_style('ticks'):\n",
    "    f, ax = plt.subplots(figsize=(7,6))\n",
    "    pconvt.where(pconvt > 0).plot.hist(ax=ax, log=True, histtype='step', linewidth=2, label='PCONVT')\n",
    "    \n",
    "    ax.legend()\n",
    "    ax.set_title('Distribution of Nonzero Cloud Height Fields')\n",
    "    ax.set_xlabel('Cloud Top Height [m]')\n",
    "    \n",
    "    f.savefig('../figures/clouds/hght_dist.png')"
   ]
  },
  {
   "cell_type": "markdown",
   "metadata": {},
   "source": [
    "### Will return to this attempt to subset CLOUDFRAC_CLUBB"
   ]
  },
  {
   "cell_type": "code",
   "execution_count": 42,
   "metadata": {
    "collapsed": true
   },
   "outputs": [],
   "source": [
    "cfc = xr.open_dataarray('/glade/scratch/mcamron/output/f.c54120.FWscHIST.f09_f09.gwdst/cloudfrac_clubb.nc')\n",
    "test = cfc.stack(z=('lat', 'lon', 'time'))"
   ]
  },
  {
   "cell_type": "code",
   "execution_count": 45,
   "metadata": {},
   "outputs": [
    {
     "name": "stdout",
     "output_type": "stream",
     "text": [
      "(70, 8999424) (2, 50332190)\n"
     ]
    }
   ],
   "source": [
    "print(np.shape( test > 0 ), np.shape(np.where( test > 0)))"
   ]
  }
 ],
 "metadata": {
  "kernelspec": {
   "display_name": "Python 3",
   "language": "python",
   "name": "python3"
  },
  "language_info": {
   "codemirror_mode": {
    "name": "ipython",
    "version": 3
   },
   "file_extension": ".py",
   "mimetype": "text/x-python",
   "name": "python",
   "nbconvert_exporter": "python",
   "pygments_lexer": "ipython3",
   "version": "3.6.2"
  }
 },
 "nbformat": 4,
 "nbformat_minor": 2
}
