{
 "cells": [
  {
   "cell_type": "code",
   "execution_count": 1,
   "metadata": {
    "collapsed": true
   },
   "outputs": [],
   "source": [
    "%matplotlib inline\n",
    "\n",
    "import numpy as np\n",
    "import pandas as pd\n",
    "import xarray as xr\n",
    "import xarray.ufuncs as xu\n",
    "import matplotlib.pyplot as plt\n",
    "import seaborn as sns\n",
    "#import cartopy.crs as ccrs\n",
    "\n",
    "from dask.distributed import Client\n",
    "\n",
    "sns.set(context='talk', palette='colorblind', style='ticks')"
   ]
  },
  {
   "cell_type": "code",
   "execution_count": 2,
   "metadata": {},
   "outputs": [
    {
     "data": {
      "text/html": [
       "<table style=\"border: 2px solid white;\">\n",
       "<tr>\n",
       "<td style=\"vertical-align: top; border: 0px solid white\">\n",
       "<h3>Client</h3>\n",
       "<ul>\n",
       "  <li><b>Scheduler: </b>tcp://127.0.0.1:33170\n",
       "  <li><b>Dashboard: </b><a href='http://127.0.0.1:8787' target='_blank'>http://127.0.0.1:8787</a>\n",
       "</ul>\n",
       "</td>\n",
       "<td style=\"vertical-align: top; border: 0px solid white\">\n",
       "<h3>Cluster</h3>\n",
       "<ul>\n",
       "  <li><b>Workers: </b>72</li>\n",
       "  <li><b>Cores: </b>72</li>\n",
       "  <li><b>Memory: </b>81.05 GB</li>\n",
       "</ul>\n",
       "</td>\n",
       "</tr>\n",
       "</table>"
      ],
      "text/plain": [
       "<Client: scheduler='tcp://127.0.0.1:33170' processes=72 cores=72>"
      ]
     },
     "execution_count": 2,
     "metadata": {},
     "output_type": "execute_result"
    }
   ],
   "source": [
    "client = Client()\n",
    "client"
   ]
  },
  {
   "cell_type": "code",
   "execution_count": 3,
   "metadata": {
    "collapsed": true
   },
   "outputs": [],
   "source": [
    "ds = xr.open_mfdataset('/glade/scratch/mcamron/archive/f.c54120.FWscHIST.f09_f09.gwdst/atm/hist/f.c54120.FWscHIST.f09_f09.gwdst.cam.h1.2002-07-*.nc')\n",
    "ds = ds.sel(lat=slice(-20,20))\n",
    "\n",
    "gwx = xr.Dataset({var: ds[var] for var in ds.data_vars if 'BTAUX' in var})\n",
    "gwy = xr.Dataset({var: ds[var] for var in ds.data_vars if 'BTAUY' in var})"
   ]
  },
  {
   "cell_type": "code",
   "execution_count": 6,
   "metadata": {
    "scrolled": true
   },
   "outputs": [
    {
     "name": "stdout",
     "output_type": "stream",
     "text": [
      "BTAUXSn01 BTAUYSn01\n",
      "BTAUXSn02 BTAUYSn02\n",
      "BTAUXSn03 BTAUYSn03\n",
      "BTAUXSn04 BTAUYSn04\n",
      "BTAUXSn05 BTAUYSn05\n",
      "BTAUXSn06 BTAUYSn06\n",
      "BTAUXSn07 BTAUYSn07\n",
      "BTAUXSn08 BTAUYSn08\n",
      "BTAUXSn09 BTAUYSn09\n",
      "BTAUXSn10 BTAUYSn10\n",
      "BTAUXSn11 BTAUYSn11\n",
      "BTAUXSn12 BTAUYSn12\n",
      "BTAUXSn13 BTAUYSn13\n",
      "BTAUXSn14 BTAUYSn14\n",
      "BTAUXSn15 BTAUYSn15\n",
      "BTAUXSn16 BTAUYSn16\n",
      "BTAUXSn17 BTAUYSn17\n",
      "BTAUXSn18 BTAUYSn18\n",
      "BTAUXSn19 BTAUYSn19\n",
      "BTAUXSn20 BTAUYSn20\n",
      "BTAUXSn21 BTAUYSn21\n",
      "BTAUXSn22 BTAUYSn22\n",
      "BTAUXSn23 BTAUYSn23\n",
      "BTAUXSn24 BTAUYSn24\n",
      "BTAUXSn25 BTAUYSn25\n",
      "BTAUXSn26 BTAUYSn26\n",
      "BTAUXSn27 BTAUYSn27\n",
      "BTAUXSn28 BTAUYSn28\n",
      "BTAUXSn29 BTAUYSn29\n",
      "BTAUXSn30 BTAUYSn30\n",
      "BTAUXSn31 BTAUYSn31\n",
      "BTAUXSn32 BTAUYSn32\n",
      "BTAUXSp01 BTAUYSp01\n",
      "BTAUXSp02 BTAUYSp02\n",
      "BTAUXSp03 BTAUYSp03\n",
      "BTAUXSp04 BTAUYSp04\n",
      "BTAUXSp05 BTAUYSp05\n",
      "BTAUXSp06 BTAUYSp06\n",
      "BTAUXSp07 BTAUYSp07\n",
      "BTAUXSp08 BTAUYSp08\n",
      "BTAUXSp09 BTAUYSp09\n",
      "BTAUXSp10 BTAUYSp10\n",
      "BTAUXSp11 BTAUYSp11\n",
      "BTAUXSp12 BTAUYSp12\n",
      "BTAUXSp13 BTAUYSp13\n",
      "BTAUXSp14 BTAUYSp14\n",
      "BTAUXSp15 BTAUYSp15\n",
      "BTAUXSp16 BTAUYSp16\n",
      "BTAUXSp17 BTAUYSp17\n",
      "BTAUXSp18 BTAUYSp18\n",
      "BTAUXSp19 BTAUYSp19\n",
      "BTAUXSp20 BTAUYSp20\n",
      "BTAUXSp21 BTAUYSp21\n",
      "BTAUXSp22 BTAUYSp22\n",
      "BTAUXSp23 BTAUYSp23\n",
      "BTAUXSp24 BTAUYSp24\n",
      "BTAUXSp25 BTAUYSp25\n",
      "BTAUXSp26 BTAUYSp26\n",
      "BTAUXSp27 BTAUYSp27\n",
      "BTAUXSp28 BTAUYSp28\n",
      "BTAUXSp29 BTAUYSp29\n",
      "BTAUXSp30 BTAUYSp30\n",
      "BTAUXSp31 BTAUYSp31\n",
      "BTAUXSp32 BTAUYSp32\n"
     ]
    }
   ],
   "source": [
    "tau = 0\n",
    "for (x, y) in zip(gwx.data_vars, gwy.data_vars):\n",
    "    tau = tau + xu.sqrt(xu.square(gwx[x]) + xu.square(gwy[y]))\n",
    "    print(x, y)"
   ]
  },
  {
   "cell_type": "code",
   "execution_count": null,
   "metadata": {
    "collapsed": true
   },
   "outputs": [],
   "source": [
    "tau.plot.hist()"
   ]
  }
 ],
 "metadata": {
  "kernelspec": {
   "display_name": "Python 3",
   "language": "python",
   "name": "python3"
  },
  "language_info": {
   "codemirror_mode": {
    "name": "ipython",
    "version": 3
   },
   "file_extension": ".py",
   "mimetype": "text/x-python",
   "name": "python",
   "nbconvert_exporter": "python",
   "pygments_lexer": "ipython3",
   "version": "3.6.2"
  }
 },
 "nbformat": 4,
 "nbformat_minor": 2
}
