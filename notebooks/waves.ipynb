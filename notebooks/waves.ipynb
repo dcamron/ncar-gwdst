{
 "cells": [
  {
   "cell_type": "markdown",
   "metadata": {},
   "source": [
    "# Waves\n",
    "##### A GWDST notebook for managing the huge dataset that is all BTAU parameterized GW outputs for GWDST WACCM run. Check ../scripts/waves.py for most recent analysis!\n",
    "\n",
    "### Input and data"
   ]
  },
  {
   "cell_type": "code",
   "execution_count": null,
   "metadata": {
    "collapsed": true
   },
   "outputs": [],
   "source": [
    "%matplotlib inline\n",
    "\n",
    "from glob import glob\n",
    "import numpy as np\n",
    "#from scipy.stats import lognorm\n",
    "import pandas as pd\n",
    "import xarray as xr\n",
    "import xarray.ufuncs as xu\n",
    "import matplotlib.pyplot as plt\n",
    "import seaborn as sns\n",
    "#import cartopy.crs as ccrs\n",
    "\n",
    "from dask.distributed import Client\n",
    "\n",
    "sns.set(context='talk', palette='colorblind', style='ticks')"
   ]
  },
  {
   "cell_type": "raw",
   "metadata": {},
   "source": [
    "client = Client()\n",
    "client"
   ]
  },
  {
   "cell_type": "raw",
   "metadata": {
    "collapsed": true
   },
   "source": [
    "ds = xr.open_mfdataset(sorted(glob('/glade/scratch/mcamron/archive/f.c54120.FWscHIST.f09_f09.gwdst/atm/hist/f.c54120.FWscHIST.f09_f09.gwdst.cam.h1.2002-0[6,7]*')))\n",
    "\n",
    "ds = ds.sel(lat=slice(-20,20))\n",
    "\n",
    "# Separate out GW flux vars and convert Pa -> mPa\n",
    "#gwx = xr.Dataset({var: ds[var] for var in ds.data_vars if 'BTAUX' in var}) * 1000\n",
    "#gwy = xr.Dataset({var: ds[var] for var in ds.data_vars if 'BTAUY' in var}) * 1000"
   ]
  },
  {
   "cell_type": "markdown",
   "metadata": {},
   "source": [
    "Now I will read in and find the magnitude of tau from the individual directions and save it separately to have and to save time!"
   ]
  },
  {
   "cell_type": "raw",
   "metadata": {
    "collapsed": true,
    "scrolled": true
   },
   "source": [
    "tau = xr.Dataset({str(i): xu.sqrt(xu.square(gwx[x]) + xu.square(gwy[y])) for (i, (x,y)) in enumerate(zip(gwx.data_vars, gwy.data_vars))})\n",
    "\n",
    "tau.to_netcdf('/glade/scratch/mcamron/output/gwdst/tau_magnitude.nc')"
   ]
  },
  {
   "cell_type": "markdown",
   "metadata": {},
   "source": [
    "Let's make sure to read that in now instead of running these calculations."
   ]
  },
  {
   "cell_type": "code",
   "execution_count": null,
   "metadata": {
    "collapsed": true
   },
   "outputs": [],
   "source": [
    "tau = xr.open_dataset('/glade/scratch/mcamron/output/gwdst/tau_magnitude.nc')"
   ]
  },
  {
   "cell_type": "code",
   "execution_count": null,
   "metadata": {},
   "outputs": [],
   "source": [
    "tau_f = xr.concat([tau[i] for i in tau.data_vars], pd.Index(np.arange(1,65), name='wave'))\n",
    "tau_f"
   ]
  },
  {
   "cell_type": "code",
   "execution_count": null,
   "metadata": {},
   "outputs": [],
   "source": [
    "tau_f.to_netcdf('/glade/scratch/mcamron/output/gwdst/tau_magnitude_final.nc')"
   ]
  },
  {
   "cell_type": "raw",
   "metadata": {
    "collapsed": true
   },
   "source": [
    "bins = np.arange(0, 200, 1)\n",
    "hist = 0\n",
    "\n",
    "for (i, x) in enumerate(tau.data_vars):\n",
    "    (h, edges) = np.histogram(tau['%d' % i], bins=bins)\n",
    "    hist += h"
   ]
  },
  {
   "cell_type": "markdown",
   "metadata": {},
   "source": [
    "Similarly to above, I will save this so that I don't have to keep repeating these calculations!"
   ]
  },
  {
   "cell_type": "raw",
   "metadata": {
    "scrolled": true
   },
   "source": [
    "tau_hist = xr.DataArray(hist, coords=[('r_edge', edges[1:])])\n",
    "tau_hist"
   ]
  },
  {
   "cell_type": "raw",
   "metadata": {
    "collapsed": true
   },
   "source": [
    "tau_hist.to_netcdf('/glade/scratch/mcamron/output/gwdst/tau_hist.nc')"
   ]
  },
  {
   "cell_type": "raw",
   "metadata": {
    "collapsed": true
   },
   "source": [
    "tau_hist = tau_hist / tau_hist.sum()"
   ]
  },
  {
   "cell_type": "raw",
   "metadata": {},
   "source": [
    "tau"
   ]
  },
  {
   "cell_type": "raw",
   "metadata": {
    "scrolled": false
   },
   "source": [
    "f, ax = plt.subplots(figsize=(7, 6))\n",
    "ax.step(tau_hist['r_edge'].values, tau_hist.values, where='post')\n",
    "ax.plot()\n",
    "\n",
    "ax.semilogy()\n",
    "ax.set_xlim(0, 200)\n",
    "\n",
    "ax.set_title('Beres tau parameterized convective GW flux (ll waves)')\n",
    "ax.set_xlabel('Flux [mPa]')\n",
    "\n",
    "plt.tight_layout()\n",
    "#f.savefig('../figures/waves/dist_flux.png')"
   ]
  }
 ],
 "metadata": {
  "kernelspec": {
   "display_name": "Python 3",
   "language": "python",
   "name": "python3"
  },
  "language_info": {
   "codemirror_mode": {
    "name": "ipython",
    "version": 3
   },
   "file_extension": ".py",
   "mimetype": "text/x-python",
   "name": "python",
   "nbconvert_exporter": "python",
   "pygments_lexer": "ipython3",
   "version": "3.6.3"
  }
 },
 "nbformat": 4,
 "nbformat_minor": 2
}
