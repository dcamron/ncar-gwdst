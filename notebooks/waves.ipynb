{
 "cells": [
  {
   "cell_type": "markdown",
   "metadata": {},
   "source": [
    "# Waves\n",
    "##### A GWDST notebook for managing the huge dataset that is all BTAU parameterized GW outputs for GWDST WACCM run. Check ../scripts/waves.py for most recent analysis!\n",
    "\n",
    "### Input and data"
   ]
  },
  {
   "cell_type": "code",
   "execution_count": 26,
   "metadata": {
    "collapsed": true
   },
   "outputs": [],
   "source": [
    "%matplotlib inline\n",
    "\n",
    "from glob import glob\n",
    "import numpy as np\n",
    "from scipy.stats import lognorm\n",
    "import pandas as pd\n",
    "import xarray as xr\n",
    "import xarray.ufuncs as xu\n",
    "import matplotlib.pyplot as plt\n",
    "import seaborn as sns\n",
    "#import cartopy.crs as ccrs\n",
    "\n",
    "from dask.distributed import Client\n",
    "\n",
    "sns.set(context='talk', palette='colorblind', style='ticks')"
   ]
  },
  {
   "cell_type": "code",
   "execution_count": 2,
   "metadata": {},
   "outputs": [
    {
     "data": {
      "text/html": [
       "<table style=\"border: 2px solid white;\">\n",
       "<tr>\n",
       "<td style=\"vertical-align: top; border: 0px solid white\">\n",
       "<h3>Client</h3>\n",
       "<ul>\n",
       "  <li><b>Scheduler: </b>tcp://127.0.0.1:32995\n",
       "  <li><b>Dashboard: </b><a href='http://127.0.0.1:8787' target='_blank'>http://127.0.0.1:8787</a>\n",
       "</ul>\n",
       "</td>\n",
       "<td style=\"vertical-align: top; border: 0px solid white\">\n",
       "<h3>Cluster</h3>\n",
       "<ul>\n",
       "  <li><b>Workers: </b>72</li>\n",
       "  <li><b>Cores: </b>72</li>\n",
       "  <li><b>Memory: </b>135.08 GB</li>\n",
       "</ul>\n",
       "</td>\n",
       "</tr>\n",
       "</table>"
      ],
      "text/plain": [
       "<Client: scheduler='tcp://127.0.0.1:32995' processes=72 cores=72>"
      ]
     },
     "execution_count": 2,
     "metadata": {},
     "output_type": "execute_result"
    }
   ],
   "source": [
    "client = Client()\n",
    "client"
   ]
  },
  {
   "cell_type": "code",
   "execution_count": 3,
   "metadata": {
    "collapsed": true
   },
   "outputs": [],
   "source": [
    "ds = xr.open_mfdataset(sorted(glob('/glade/scratch/mcamron/archive/f.c54120.FWscHIST.f09_f09.gwdst/atm/hist/f.c54120.FWscHIST.f09_f09.gwdst.cam.h1.2002-0[6,7]*')))\n",
    "\n",
    "ds = ds.sel(lat=slice(-20,20))\n",
    "\n",
    "# Separate out GW flux vars and convert Pa -> mPa\n",
    "gwx = xr.Dataset({var: ds[var] for var in ds.data_vars if 'BTAUX' in var}) * 1000\n",
    "gwy = xr.Dataset({var: ds[var] for var in ds.data_vars if 'BTAUY' in var}) * 1000"
   ]
  },
  {
   "cell_type": "markdown",
   "metadata": {},
   "source": [
    "Now I will read in and find the magnitude of tau from the individual directions and save it separately to have and to save time!"
   ]
  },
  {
   "cell_type": "code",
   "execution_count": null,
   "metadata": {
    "collapsed": true,
    "scrolled": true
   },
   "outputs": [],
   "source": [
    "tau = xr.Dataset({str(i): xu.sqrt(xu.square(gwx[x]) + xu.square(gwy[y])) for (i, (x,y)) in enumerate(zip(gwx.data_vars, gwy.data_vars))})\n",
    "\n",
    "tau.to_netcdf('/glade/scratch/mcamron/output/gwdst/tau_magnitude.nc')"
   ]
  },
  {
   "cell_type": "markdown",
   "metadata": {},
   "source": [
    "Let's make sure to read that in now instead of running these calculations."
   ]
  },
  {
   "cell_type": "code",
   "execution_count": 6,
   "metadata": {
    "collapsed": true
   },
   "outputs": [],
   "source": [
    "tau = xr.open_dataset('/glade/scratch/mcamron/output/gwdst/tau_magnitude.nc', chunks={'time': 61})"
   ]
  },
  {
   "cell_type": "code",
   "execution_count": 7,
   "metadata": {
    "collapsed": true
   },
   "outputs": [],
   "source": [
    "bins = np.arange(0, 200, 1)\n",
    "hist = 0\n",
    "\n",
    "for (i, x) in enumerate(tau.data_vars):\n",
    "    (h, edges) = np.histogram(tau['%d' % i], bins=bins)\n",
    "    hist += h"
   ]
  },
  {
   "cell_type": "markdown",
   "metadata": {},
   "source": [
    "Similarly to above, I will save this so that I don't have to keep repeating these calculations!"
   ]
  },
  {
   "cell_type": "code",
   "execution_count": 15,
   "metadata": {
    "scrolled": true
   },
   "outputs": [
    {
     "data": {
      "text/plain": [
       "<xarray.DataArray (r_edge: 199)>\n",
       "array([79161562676,    80707748,    33737029,    18138879,    10994981,\n",
       "           7238132,     4990088,     3593736,     2646810,     2013014,\n",
       "           1558100,     1222431,      967231,      772450,      632292,\n",
       "            513906,      428703,      356158,      299187,      253253,\n",
       "            212527,      180657,      154723,      132456,      113940,\n",
       "             96854,       84105,       73708,       65661,       56911,\n",
       "             50046,       42407,       37337,       34263,       31243,\n",
       "             27478,       22506,       22340,       18987,       17131,\n",
       "             15584,       14165,       12788,       11093,        9848,\n",
       "              9413,        7816,        7680,        6972,        6679,\n",
       "              5431,        4886,        4496,        4260,        3706,\n",
       "              3746,        3150,        3348,        2809,        2658,\n",
       "              2173,        2217,        1799,        1835,        1859,\n",
       "              1464,        1603,        1395,        1363,        1361,\n",
       "               984,         938,         891,        1173,         823,\n",
       "               689,         689,         623,         654,         649,\n",
       "               599,         498,         426,         563,         496,\n",
       "               512,         296,         293,         319,         398,\n",
       "               419,         262,         251,         273,         212,\n",
       "               147,         195,         170,         195,          77,\n",
       "               147,          99,          56,         129,          67,\n",
       "               140,         110,          91,          55,          92,\n",
       "                94,          42,          84,          84,          83,\n",
       "                50,          69,          81,          48,          33,\n",
       "                24,          29,          41,          17,          48,\n",
       "                73,          20,          21,          13,           5,\n",
       "                15,          17,          32,          65,          60,\n",
       "                19,          29,          22,           7,           2,\n",
       "                19,           3,           5,          11,          10,\n",
       "                 1,           4,          19,          32,          31,\n",
       "                39,          26,          14,           5,          14,\n",
       "                30,          31,          17,          13,          22,\n",
       "                21,           5,          10,           2,           1,\n",
       "                23,          13,          11,          11,           0,\n",
       "                 0,           0,          16,          12,           1,\n",
       "                 1,           0,           6,           5,           1,\n",
       "                 0,           0,           0,           0,           0,\n",
       "                 0,           0,           5,          10,           0,\n",
       "                 0,           0,           0,           0,           0,\n",
       "                 0,           0,           0,           0])\n",
       "Coordinates:\n",
       "  * r_edge   (r_edge) int64 1 2 3 4 5 6 7 8 9 10 11 12 13 14 15 16 17 18 19 ..."
      ]
     },
     "execution_count": 15,
     "metadata": {},
     "output_type": "execute_result"
    }
   ],
   "source": [
    "tau_hist = xr.DataArray(hist, coords=[('r_edge', edges[1:])])\n",
    "tau_hist"
   ]
  },
  {
   "cell_type": "code",
   "execution_count": 16,
   "metadata": {
    "collapsed": true
   },
   "outputs": [],
   "source": [
    "tau_hist.to_netcdf('/glade/scratch/mcamron/output/gwdst/tau_hist.nc')"
   ]
  },
  {
   "cell_type": "code",
   "execution_count": 34,
   "metadata": {},
   "outputs": [],
   "source": [
    "tau_hist = tau_hist / tau_hist.sum()"
   ]
  },
  {
   "cell_type": "code",
   "execution_count": 36,
   "metadata": {},
   "outputs": [
    {
     "data": {
      "text/plain": [
       "<xarray.Dataset>\n",
       "Dimensions:  (lat: 42, lev: 70, lon: 288, time: 1464)\n",
       "Coordinates:\n",
       "  * lon      (lon) float64 0.0 1.25 2.5 3.75 5.0 6.25 7.5 8.75 10.0 11.25 ...\n",
       "  * lev      (lev) float64 5.96e-06 9.827e-06 1.62e-05 2.671e-05 4.404e-05 ...\n",
       "  * lat      (lat) float64 -19.32 -18.38 -17.43 -16.49 -15.55 -14.61 -13.66 ...\n",
       "  * time     (time) datetime64[ns] 2002-06-01 2002-06-01T00:59:59 ...\n",
       "Data variables:\n",
       "    0        (time, lev, lat, lon) float32 0.0 0.0 0.0 0.0 0.0 0.0 0.0 0.0 ...\n",
       "    1        (time, lev, lat, lon) float32 0.0 0.0 0.0 0.0 0.0 0.0 0.0 0.0 ...\n",
       "    2        (time, lev, lat, lon) float32 0.0 0.0 0.0 0.0 0.0 0.0 0.0 0.0 ...\n",
       "    3        (time, lev, lat, lon) float32 0.0 0.0 0.0 0.0 0.0 0.0 0.0 0.0 ...\n",
       "    4        (time, lev, lat, lon) float32 0.0 0.0 0.0 0.0 0.0 0.0 0.0 0.0 ...\n",
       "    5        (time, lev, lat, lon) float32 0.0 0.0 0.0 0.0 0.0 0.0 0.0 0.0 ...\n",
       "    6        (time, lev, lat, lon) float32 0.0 0.0 0.0 0.0 0.0 0.0 0.0 0.0 ...\n",
       "    7        (time, lev, lat, lon) float32 0.0 0.0 0.0 0.0 0.0 0.0 0.0 0.0 ...\n",
       "    8        (time, lev, lat, lon) float32 0.0 0.0 0.0 0.0 0.0 0.0 0.0 0.0 ...\n",
       "    9        (time, lev, lat, lon) float32 0.0 0.0 0.0 0.0 0.0 0.0 0.0 0.0 ...\n",
       "    10       (time, lev, lat, lon) float32 0.0 0.0 0.0 0.0 0.0 0.0 0.0 0.0 ...\n",
       "    11       (time, lev, lat, lon) float32 0.0 0.0 0.0 0.0 0.0 0.0 0.0 0.0 ...\n",
       "    12       (time, lev, lat, lon) float32 0.0 0.0 0.0 0.0 0.0 0.0 0.0 0.0 ...\n",
       "    13       (time, lev, lat, lon) float32 0.0 0.0 0.0 0.0 0.0 0.0 0.0 0.0 ...\n",
       "    14       (time, lev, lat, lon) float32 0.0 0.0 0.0 0.0 0.0 0.0 0.0 0.0 ...\n",
       "    15       (time, lev, lat, lon) float32 0.0 0.0 0.0 0.0 0.0 0.0 0.0 0.0 ...\n",
       "    16       (time, lev, lat, lon) float32 0.0 0.0 0.0 0.0 0.0 0.0 0.0 0.0 ...\n",
       "    17       (time, lev, lat, lon) float32 0.0 0.0 0.0 0.0 0.0 0.0 0.0 0.0 ...\n",
       "    18       (time, lev, lat, lon) float32 0.0 0.0 0.0 0.0 0.0 0.0 0.0 0.0 ...\n",
       "    19       (time, lev, lat, lon) float32 0.0 0.0 0.0 0.0 0.0 0.0 0.0 0.0 ...\n",
       "    20       (time, lev, lat, lon) float32 0.0 0.0 0.0 0.0 0.0 0.0 0.0 0.0 ...\n",
       "    21       (time, lev, lat, lon) float32 0.0 0.0 0.0 0.0 0.0 0.0 0.0 0.0 ...\n",
       "    22       (time, lev, lat, lon) float32 0.0 0.0 0.0 0.0 0.0 0.0 0.0 0.0 ...\n",
       "    23       (time, lev, lat, lon) float32 0.0 0.0 0.0 0.0 0.0 0.0 0.0 0.0 ...\n",
       "    24       (time, lev, lat, lon) float32 0.0 0.0 0.0 0.0 0.0 0.0 0.0 0.0 ...\n",
       "    25       (time, lev, lat, lon) float32 0.0 0.0 0.0 0.0 0.0 0.0 0.0 0.0 ...\n",
       "    26       (time, lev, lat, lon) float32 0.0 0.0 0.0 0.0 0.0 0.0 0.0 0.0 ...\n",
       "    27       (time, lev, lat, lon) float32 0.0 0.0 0.0 0.0 0.0 0.0 0.0 0.0 ...\n",
       "    28       (time, lev, lat, lon) float32 0.0 0.0 0.0 0.0 0.0 0.0 0.0 0.0 ...\n",
       "    29       (time, lev, lat, lon) float32 0.0 0.0 0.0 0.0 0.0 0.0 0.0 0.0 ...\n",
       "    30       (time, lev, lat, lon) float32 0.0 0.0 0.0 0.0 0.0 0.0 0.0 0.0 ...\n",
       "    31       (time, lev, lat, lon) float32 0.0 0.0 0.0 0.0 0.0 0.0 0.0 0.0 ...\n",
       "    32       (time, lev, lat, lon) float32 0.0 0.0 0.0 0.0 0.0 0.0 0.0 0.0 ...\n",
       "    33       (time, lev, lat, lon) float32 0.0 0.0 0.0 0.0 0.0 0.0 0.0 0.0 ...\n",
       "    34       (time, lev, lat, lon) float32 0.0 0.0 0.0 0.0 0.0 0.0 0.0 0.0 ...\n",
       "    35       (time, lev, lat, lon) float32 0.0 0.0 0.0 0.0 0.0 0.0 0.0 0.0 ...\n",
       "    36       (time, lev, lat, lon) float32 0.0 0.0 0.0 0.0 0.0 0.0 0.0 0.0 ...\n",
       "    37       (time, lev, lat, lon) float32 0.0 0.0 0.0 0.0 0.0 0.0 0.0 0.0 ...\n",
       "    38       (time, lev, lat, lon) float32 0.0 0.0 0.0 0.0 0.0 0.0 0.0 0.0 ...\n",
       "    39       (time, lev, lat, lon) float32 0.0 0.0 0.0 0.0 0.0 0.0 0.0 0.0 ...\n",
       "    40       (time, lev, lat, lon) float32 0.0 0.0 0.0 0.0 0.0 0.0 0.0 0.0 ...\n",
       "    41       (time, lev, lat, lon) float32 0.0 0.0 0.0 0.0 0.0 0.0 0.0 0.0 ...\n",
       "    42       (time, lev, lat, lon) float32 0.0 0.0 0.0 0.0 0.0 0.0 0.0 0.0 ...\n",
       "    43       (time, lev, lat, lon) float32 0.0 0.0 0.0 0.0 0.0 0.0 0.0 0.0 ...\n",
       "    44       (time, lev, lat, lon) float32 0.0 0.0 0.0 0.0 0.0 0.0 0.0 0.0 ...\n",
       "    45       (time, lev, lat, lon) float32 0.0 0.0 0.0 0.0 0.0 0.0 0.0 0.0 ...\n",
       "    46       (time, lev, lat, lon) float32 0.0 0.0 0.0 0.0 0.0 0.0 0.0 0.0 ...\n",
       "    47       (time, lev, lat, lon) float32 0.0 0.0 0.0 0.0 0.0 0.0 0.0 0.0 ...\n",
       "    48       (time, lev, lat, lon) float32 0.0 0.0 0.0 0.0 0.0 0.0 0.0 0.0 ...\n",
       "    49       (time, lev, lat, lon) float32 0.0 0.0 0.0 0.0 0.0 0.0 0.0 0.0 ...\n",
       "    50       (time, lev, lat, lon) float32 0.0 0.0 0.0 0.0 0.0 0.0 0.0 0.0 ...\n",
       "    51       (time, lev, lat, lon) float32 0.0 0.0 0.0 0.0 0.0 0.0 0.0 0.0 ...\n",
       "    52       (time, lev, lat, lon) float32 0.0 0.0 0.0 0.0 0.0 0.0 0.0 0.0 ...\n",
       "    53       (time, lev, lat, lon) float32 0.0 0.0 0.0 0.0 0.0 0.0 0.0 0.0 ...\n",
       "    54       (time, lev, lat, lon) float32 0.0 0.0 0.0 0.0 0.0 0.0 0.0 0.0 ...\n",
       "    55       (time, lev, lat, lon) float32 0.0 0.0 0.0 0.0 0.0 0.0 0.0 0.0 ...\n",
       "    56       (time, lev, lat, lon) float32 0.0 0.0 0.0 0.0 0.0 0.0 0.0 0.0 ...\n",
       "    57       (time, lev, lat, lon) float32 0.0 0.0 0.0 0.0 0.0 0.0 0.0 0.0 ...\n",
       "    58       (time, lev, lat, lon) float32 0.0 0.0 0.0 0.0 0.0 0.0 0.0 0.0 ...\n",
       "    59       (time, lev, lat, lon) float32 0.0 0.0 0.0 0.0 0.0 0.0 0.0 0.0 ...\n",
       "    60       (time, lev, lat, lon) float32 0.0 0.0 0.0 0.0 0.0 0.0 0.0 0.0 ...\n",
       "    61       (time, lev, lat, lon) float32 0.0 0.0 0.0 0.0 0.0 0.0 0.0 0.0 ...\n",
       "    62       (time, lev, lat, lon) float32 0.0 0.0 0.0 0.0 0.0 0.0 0.0 0.0 ...\n",
       "    63       (time, lev, lat, lon) float32 0.0 0.0 0.0 0.0 0.0 0.0 0.0 0.0 ..."
      ]
     },
     "execution_count": 36,
     "metadata": {},
     "output_type": "execute_result"
    }
   ],
   "source": [
    "tau"
   ]
  },
  {
   "cell_type": "code",
   "execution_count": 35,
   "metadata": {
    "scrolled": false
   },
   "outputs": [
    {
     "data": {
      "image/png": "[encoded data removed]",
      "text/plain": [
       "<matplotlib.figure.Figure at 0x2aadabdbd4e0>"
      ]
     },
     "metadata": {},
     "output_type": "display_data"
    }
   ],
   "source": [
    "f, ax = plt.subplots(figsize=(7, 6))\n",
    "ax.step(tau_hist['r_edge'].values, tau_hist.values, where='post')\n",
    "ax.plot()\n",
    "\n",
    "ax.semilogy()\n",
    "ax.set_xlim(0, 200)\n",
    "\n",
    "ax.set_title('Beres tau parameterized convective GW flux (ll waves)')\n",
    "ax.set_xlabel('Flux [mPa]')\n",
    "\n",
    "plt.tight_layout()\n",
    "#f.savefig('../figures/waves/dist_flux.png')"
   ]
  }
 ],
 "metadata": {
  "kernelspec": {
   "display_name": "Python 3",
   "language": "python",
   "name": "python3"
  },
  "language_info": {
   "codemirror_mode": {
    "name": "ipython",
    "version": 3
   },
   "file_extension": ".py",
   "mimetype": "text/x-python",
   "name": "python",
   "nbconvert_exporter": "python",
   "pygments_lexer": "ipython3",
   "version": "3.6.3"
  }
 },
 "nbformat": 4,
 "nbformat_minor": 2
}
