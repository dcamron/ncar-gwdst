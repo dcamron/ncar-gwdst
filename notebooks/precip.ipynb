{
 "cells": [
  {
   "cell_type": "markdown",
   "metadata": {},
   "source": [
    "# Precipitation Analysis\n",
    "\n",
    "##### A GWDST project to analyze and visualize precipitation features relevant to gravity waves, notably in terms of variability and extreme analysis.\n",
    "\n",
    "### Input and data"
   ]
  },
  {
   "cell_type": "code",
   "execution_count": 1,
   "metadata": {
    "collapsed": true
   },
   "outputs": [],
   "source": [
    "%matplotlib inline\n",
    "\n",
    "#import warnings\n",
    "#warnings.filterwarnings('ignore')\n",
    "\n",
    "import numpy as np\n",
    "import pandas as pd\n",
    "import xarray as xr\n",
    "import matplotlib.pyplot as plt\n",
    "import seaborn as sns\n",
    "import cartopy.crs as ccrs\n",
    "\n",
    "from dask.distributed import Client\n",
    "\n",
    "sns.set(context='talk', palette='colorblind')"
   ]
  },
  {
   "cell_type": "code",
   "execution_count": 2,
   "metadata": {},
   "outputs": [
    {
     "data": {
      "text/html": [
       "<table style=\"border: 2px solid white;\">\n",
       "<tr>\n",
       "<td style=\"vertical-align: top; border: 0px solid white\">\n",
       "<h3>Client</h3>\n",
       "<ul>\n",
       "  <li><b>Scheduler: </b>tcp://127.0.0.1:41881\n",
       "  <li><b>Dashboard: </b><a href='http://127.0.0.1:8787' target='_blank'>http://127.0.0.1:8787</a>\n",
       "</ul>\n",
       "</td>\n",
       "<td style=\"vertical-align: top; border: 0px solid white\">\n",
       "<h3>Cluster</h3>\n",
       "<ul>\n",
       "  <li><b>Workers: </b>8</li>\n",
       "  <li><b>Cores: </b>8</li>\n",
       "  <li><b>Memory: </b>134.92 GB</li>\n",
       "</ul>\n",
       "</td>\n",
       "</tr>\n",
       "</table>"
      ],
      "text/plain": [
       "<Client: scheduler='tcp://127.0.0.1:41881' processes=8 cores=8>"
      ]
     },
     "execution_count": 2,
     "metadata": {},
     "output_type": "execute_result"
    }
   ],
   "source": [
    "client = Client()\n",
    "client"
   ]
  },
  {
   "cell_type": "code",
   "execution_count": 3,
   "metadata": {
    "scrolled": true
   },
   "outputs": [
    {
     "data": {
      "text/plain": [
       "<xarray.Dataset>\n",
       "Dimensions:          (ilev: 71, lat: 42, lev: 70, lon: 288, nbnd: 2, time: 720)\n",
       "Coordinates:\n",
       "  * lat              (lat) float64 -19.32 -18.38 -17.43 -16.49 -15.55 -14.61 ...\n",
       "  * lon              (lon) float64 0.0 1.25 2.5 3.75 5.0 6.25 7.5 8.75 10.0 ...\n",
       "  * lev              (lev) float64 5.96e-06 9.827e-06 1.62e-05 2.671e-05 ...\n",
       "  * ilev             (ilev) float64 4.5e-06 7.42e-06 1.223e-05 2.017e-05 ...\n",
       "  * time             (time) datetime64[ns] 2002-06-01 2002-06-01T00:59:59 ...\n",
       "Dimensions without coordinates: nbnd\n",
       "Data variables:\n",
       "    gw               (time, lat) float64 0.01552 0.01561 0.01569 0.01577 ...\n",
       "    hyam             (time, lev) float64 5.96e-09 9.827e-09 1.62e-08 ...\n",
       "    hybm             (time, lev) float64 0.0 0.0 0.0 0.0 0.0 0.0 0.0 0.0 0.0 ...\n",
       "    P0               (time) float64 1e+05 1e+05 1e+05 1e+05 1e+05 1e+05 ...\n",
       "    hyai             (time, ilev) float64 4.5e-09 7.42e-09 1.223e-08 ...\n",
       "    hybi             (time, ilev) float64 0.0 0.0 0.0 0.0 0.0 0.0 0.0 0.0 ...\n",
       "    date             (time) int32 20020601 20020601 20020601 20020601 ...\n",
       "    datesec          (time) int32 0 3600 7200 10800 14400 18000 21600 25200 ...\n",
       "    time_bnds        (time, nbnd) float64 16.96 17.0 17.0 17.04 17.04 17.08 ...\n",
       "    date_written     (time) |S8 b'07/20/17' b'07/20/17' b'07/20/17' ...\n",
       "    time_written     (time) |S8 b'13:27:24' b'13:27:28' b'13:27:31' ...\n",
       "    ndbase           (time) int64 0 0 0 0 0 0 0 0 0 0 0 0 0 0 0 0 0 0 0 0 0 ...\n",
       "    nsbase           (time) int64 0 0 0 0 0 0 0 0 0 0 0 0 0 0 0 0 0 0 0 0 0 ...\n",
       "    nbdate           (time) int64 20020515 20020515 20020515 20020515 ...\n",
       "    nbsec            (time) int64 0 0 0 0 0 0 0 0 0 0 0 0 0 0 0 0 0 0 0 0 0 ...\n",
       "    mdt              (time) int64 1800 1800 1800 1800 1800 1800 1800 1800 ...\n",
       "    ndcur            (time) int32 17 17 17 17 17 17 17 17 17 17 17 17 17 17 ...\n",
       "    nscur            (time) int32 0 3600 7200 10800 14400 18000 21600 25200 ...\n",
       "    co2vmr           (time) float64 0.0003732 0.0003732 0.0003732 0.0003732 ...\n",
       "    ch4vmr           (time) float64 1.773e-06 1.773e-06 1.773e-06 1.773e-06 ...\n",
       "    n2ovmr           (time) float64 3.17e-07 3.17e-07 3.17e-07 3.17e-07 ...\n",
       "    f11vmr           (time) float64 2.576e-10 2.576e-10 2.576e-10 2.576e-10 ...\n",
       "    f12vmr           (time) float64 5.435e-10 5.435e-10 5.435e-10 5.435e-10 ...\n",
       "    sol_tsi          (time) float64 -1.0 -1.0 -1.0 -1.0 -1.0 -1.0 -1.0 -1.0 ...\n",
       "    f107             (time) float64 183.9 183.9 183.9 183.9 183.9 183.9 ...\n",
       "    f107a            (time) float64 164.4 164.4 164.4 164.4 164.4 164.4 ...\n",
       "    kp               (time) float64 0.825 0.825 0.825 0.825 0.825 0.825 ...\n",
       "    ap               (time) float64 3.5 3.5 3.5 3.5 3.5 3.5 3.5 3.5 3.5 3.5 ...\n",
       "    nsteph           (time) int32 816 818 820 822 824 826 828 830 832 834 ...\n",
       "    BTAUXSn01        (time, lev, lat, lon) float32 0.0 0.0 0.0 0.0 0.0 0.0 ...\n",
       "    BTAUXSn02        (time, lev, lat, lon) float32 0.0 0.0 0.0 0.0 0.0 0.0 ...\n",
       "    BTAUXSn03        (time, lev, lat, lon) float32 0.0 0.0 0.0 0.0 0.0 0.0 ...\n",
       "    BTAUXSn04        (time, lev, lat, lon) float32 0.0 0.0 0.0 0.0 0.0 0.0 ...\n",
       "    BTAUXSn05        (time, lev, lat, lon) float32 0.0 0.0 0.0 0.0 0.0 0.0 ...\n",
       "    BTAUXSn06        (time, lev, lat, lon) float32 0.0 0.0 0.0 0.0 0.0 0.0 ...\n",
       "    BTAUXSn07        (time, lev, lat, lon) float32 0.0 0.0 0.0 0.0 0.0 0.0 ...\n",
       "    BTAUXSn08        (time, lev, lat, lon) float32 0.0 0.0 0.0 0.0 0.0 0.0 ...\n",
       "    BTAUXSn09        (time, lev, lat, lon) float32 0.0 0.0 0.0 0.0 0.0 0.0 ...\n",
       "    BTAUXSn10        (time, lev, lat, lon) float32 0.0 0.0 0.0 0.0 0.0 0.0 ...\n",
       "    BTAUXSn11        (time, lev, lat, lon) float32 0.0 0.0 0.0 0.0 0.0 0.0 ...\n",
       "    BTAUXSn12        (time, lev, lat, lon) float32 0.0 0.0 0.0 0.0 0.0 0.0 ...\n",
       "    BTAUXSn13        (time, lev, lat, lon) float32 0.0 0.0 0.0 0.0 0.0 0.0 ...\n",
       "    BTAUXSn14        (time, lev, lat, lon) float32 0.0 0.0 0.0 0.0 0.0 0.0 ...\n",
       "    BTAUXSn15        (time, lev, lat, lon) float32 0.0 0.0 0.0 0.0 0.0 0.0 ...\n",
       "    BTAUXSn16        (time, lev, lat, lon) float32 0.0 0.0 0.0 0.0 0.0 0.0 ...\n",
       "    BTAUXSn17        (time, lev, lat, lon) float32 0.0 0.0 0.0 0.0 0.0 0.0 ...\n",
       "    BTAUXSn18        (time, lev, lat, lon) float32 0.0 0.0 0.0 0.0 0.0 0.0 ...\n",
       "    BTAUXSn19        (time, lev, lat, lon) float32 0.0 0.0 0.0 0.0 0.0 0.0 ...\n",
       "    BTAUXSn20        (time, lev, lat, lon) float32 0.0 0.0 0.0 0.0 0.0 0.0 ...\n",
       "    BTAUXSn21        (time, lev, lat, lon) float32 0.0 0.0 0.0 0.0 0.0 0.0 ...\n",
       "    BTAUXSn22        (time, lev, lat, lon) float32 0.0 0.0 0.0 0.0 0.0 0.0 ...\n",
       "    BTAUXSn23        (time, lev, lat, lon) float32 0.0 0.0 0.0 0.0 0.0 0.0 ...\n",
       "    BTAUXSn24        (time, lev, lat, lon) float32 0.0 0.0 0.0 0.0 0.0 0.0 ...\n",
       "    BTAUXSn25        (time, lev, lat, lon) float32 0.0 0.0 0.0 0.0 0.0 0.0 ...\n",
       "    BTAUXSn26        (time, lev, lat, lon) float32 0.0 0.0 0.0 0.0 0.0 0.0 ...\n",
       "    BTAUXSn27        (time, lev, lat, lon) float32 0.0 0.0 0.0 0.0 0.0 0.0 ...\n",
       "    BTAUXSn28        (time, lev, lat, lon) float32 0.0 0.0 0.0 0.0 0.0 0.0 ...\n",
       "    BTAUXSn29        (time, lev, lat, lon) float32 0.0 0.0 0.0 0.0 0.0 0.0 ...\n",
       "    BTAUXSn30        (time, lev, lat, lon) float32 0.0 0.0 0.0 0.0 0.0 0.0 ...\n",
       "    BTAUXSn31        (time, lev, lat, lon) float32 0.0 0.0 0.0 0.0 0.0 0.0 ...\n",
       "    BTAUXSn32        (time, lev, lat, lon) float32 0.0 0.0 0.0 0.0 0.0 0.0 ...\n",
       "    BTAUXSp01        (time, lev, lat, lon) float32 0.0 0.0 0.0 0.0 0.0 0.0 ...\n",
       "    BTAUXSp02        (time, lev, lat, lon) float32 0.0 0.0 0.0 0.0 0.0 0.0 ...\n",
       "    BTAUXSp03        (time, lev, lat, lon) float32 0.0 0.0 0.0 0.0 0.0 0.0 ...\n",
       "    BTAUXSp04        (time, lev, lat, lon) float32 0.0 0.0 0.0 0.0 0.0 0.0 ...\n",
       "    BTAUXSp05        (time, lev, lat, lon) float32 0.0 0.0 0.0 0.0 0.0 0.0 ...\n",
       "    BTAUXSp06        (time, lev, lat, lon) float32 0.0 0.0 0.0 0.0 0.0 0.0 ...\n",
       "    BTAUXSp07        (time, lev, lat, lon) float32 0.0 0.0 0.0 0.0 0.0 0.0 ...\n",
       "    BTAUXSp08        (time, lev, lat, lon) float32 0.0 0.0 0.0 0.0 0.0 0.0 ...\n",
       "    BTAUXSp09        (time, lev, lat, lon) float32 0.0 0.0 0.0 0.0 0.0 0.0 ...\n",
       "    BTAUXSp10        (time, lev, lat, lon) float32 0.0 0.0 0.0 0.0 0.0 0.0 ...\n",
       "    BTAUXSp11        (time, lev, lat, lon) float32 0.0 0.0 0.0 0.0 0.0 0.0 ...\n",
       "    BTAUXSp12        (time, lev, lat, lon) float32 0.0 0.0 0.0 0.0 0.0 0.0 ...\n",
       "    BTAUXSp13        (time, lev, lat, lon) float32 0.0 0.0 0.0 0.0 0.0 0.0 ...\n",
       "    BTAUXSp14        (time, lev, lat, lon) float32 0.0 0.0 0.0 0.0 0.0 0.0 ...\n",
       "    BTAUXSp15        (time, lev, lat, lon) float32 0.0 0.0 0.0 0.0 0.0 0.0 ...\n",
       "    BTAUXSp16        (time, lev, lat, lon) float32 0.0 0.0 0.0 0.0 0.0 0.0 ...\n",
       "    BTAUXSp17        (time, lev, lat, lon) float32 0.0 0.0 0.0 0.0 0.0 0.0 ...\n",
       "    BTAUXSp18        (time, lev, lat, lon) float32 0.0 0.0 0.0 0.0 0.0 0.0 ...\n",
       "    BTAUXSp19        (time, lev, lat, lon) float32 0.0 0.0 0.0 0.0 0.0 0.0 ...\n",
       "    BTAUXSp20        (time, lev, lat, lon) float32 0.0 0.0 0.0 0.0 0.0 0.0 ...\n",
       "    BTAUXSp21        (time, lev, lat, lon) float32 0.0 0.0 0.0 0.0 0.0 0.0 ...\n",
       "    BTAUXSp22        (time, lev, lat, lon) float32 0.0 0.0 0.0 0.0 0.0 0.0 ...\n",
       "    BTAUXSp23        (time, lev, lat, lon) float32 0.0 0.0 0.0 0.0 0.0 0.0 ...\n",
       "    BTAUXSp24        (time, lev, lat, lon) float32 0.0 0.0 0.0 0.0 0.0 0.0 ...\n",
       "    BTAUXSp25        (time, lev, lat, lon) float32 0.0 0.0 0.0 0.0 0.0 0.0 ...\n",
       "    BTAUXSp26        (time, lev, lat, lon) float32 0.0 0.0 0.0 0.0 0.0 0.0 ...\n",
       "    BTAUXSp27        (time, lev, lat, lon) float32 0.0 0.0 0.0 0.0 0.0 0.0 ...\n",
       "    BTAUXSp28        (time, lev, lat, lon) float32 0.0 0.0 0.0 0.0 0.0 0.0 ...\n",
       "    BTAUXSp29        (time, lev, lat, lon) float32 0.0 0.0 0.0 0.0 0.0 0.0 ...\n",
       "    BTAUXSp30        (time, lev, lat, lon) float32 0.0 0.0 0.0 0.0 0.0 0.0 ...\n",
       "    BTAUXSp31        (time, lev, lat, lon) float32 0.0 0.0 0.0 0.0 0.0 0.0 ...\n",
       "    BTAUXSp32        (time, lev, lat, lon) float32 0.0 0.0 0.0 0.0 0.0 0.0 ...\n",
       "    BTAUYSn01        (time, lev, lat, lon) float32 0.0 0.0 0.0 0.0 0.0 0.0 ...\n",
       "    BTAUYSn02        (time, lev, lat, lon) float32 0.0 0.0 0.0 0.0 0.0 0.0 ...\n",
       "    BTAUYSn03        (time, lev, lat, lon) float32 0.0 0.0 0.0 0.0 0.0 0.0 ...\n",
       "    BTAUYSn04        (time, lev, lat, lon) float32 0.0 0.0 0.0 0.0 0.0 0.0 ...\n",
       "    BTAUYSn05        (time, lev, lat, lon) float32 0.0 0.0 0.0 0.0 0.0 0.0 ...\n",
       "    BTAUYSn06        (time, lev, lat, lon) float32 0.0 0.0 0.0 0.0 0.0 0.0 ...\n",
       "    BTAUYSn07        (time, lev, lat, lon) float32 0.0 0.0 0.0 0.0 0.0 0.0 ...\n",
       "    BTAUYSn08        (time, lev, lat, lon) float32 0.0 0.0 0.0 0.0 0.0 0.0 ...\n",
       "    BTAUYSn09        (time, lev, lat, lon) float32 0.0 0.0 0.0 0.0 0.0 0.0 ...\n",
       "    BTAUYSn10        (time, lev, lat, lon) float32 0.0 0.0 0.0 0.0 0.0 0.0 ...\n",
       "    BTAUYSn11        (time, lev, lat, lon) float32 0.0 0.0 0.0 0.0 0.0 0.0 ...\n",
       "    BTAUYSn12        (time, lev, lat, lon) float32 0.0 0.0 0.0 0.0 0.0 0.0 ...\n",
       "    BTAUYSn13        (time, lev, lat, lon) float32 0.0 0.0 0.0 0.0 0.0 0.0 ...\n",
       "    BTAUYSn14        (time, lev, lat, lon) float32 0.0 0.0 0.0 0.0 0.0 0.0 ...\n",
       "    BTAUYSn15        (time, lev, lat, lon) float32 0.0 0.0 0.0 0.0 0.0 0.0 ...\n",
       "    BTAUYSn16        (time, lev, lat, lon) float32 0.0 0.0 0.0 0.0 0.0 0.0 ...\n",
       "    BTAUYSn17        (time, lev, lat, lon) float32 0.0 0.0 0.0 0.0 0.0 0.0 ...\n",
       "    BTAUYSn18        (time, lev, lat, lon) float32 0.0 0.0 0.0 0.0 0.0 0.0 ...\n",
       "    BTAUYSn19        (time, lev, lat, lon) float32 0.0 0.0 0.0 0.0 0.0 0.0 ...\n",
       "    BTAUYSn20        (time, lev, lat, lon) float32 0.0 0.0 0.0 0.0 0.0 0.0 ...\n",
       "    BTAUYSn21        (time, lev, lat, lon) float32 0.0 0.0 0.0 0.0 0.0 0.0 ...\n",
       "    BTAUYSn22        (time, lev, lat, lon) float32 0.0 0.0 0.0 0.0 0.0 0.0 ...\n",
       "    BTAUYSn23        (time, lev, lat, lon) float32 0.0 0.0 0.0 0.0 0.0 0.0 ...\n",
       "    BTAUYSn24        (time, lev, lat, lon) float32 0.0 0.0 0.0 0.0 0.0 0.0 ...\n",
       "    BTAUYSn25        (time, lev, lat, lon) float32 0.0 0.0 0.0 0.0 0.0 0.0 ...\n",
       "    BTAUYSn26        (time, lev, lat, lon) float32 0.0 0.0 0.0 0.0 0.0 0.0 ...\n",
       "    BTAUYSn27        (time, lev, lat, lon) float32 0.0 0.0 0.0 0.0 0.0 0.0 ...\n",
       "    BTAUYSn28        (time, lev, lat, lon) float32 0.0 0.0 0.0 0.0 0.0 0.0 ...\n",
       "    BTAUYSn29        (time, lev, lat, lon) float32 0.0 0.0 0.0 0.0 0.0 0.0 ...\n",
       "    BTAUYSn30        (time, lev, lat, lon) float32 0.0 0.0 0.0 0.0 0.0 0.0 ...\n",
       "    BTAUYSn31        (time, lev, lat, lon) float32 0.0 0.0 0.0 0.0 0.0 0.0 ...\n",
       "    BTAUYSn32        (time, lev, lat, lon) float32 0.0 0.0 0.0 0.0 0.0 0.0 ...\n",
       "    BTAUYSp01        (time, lev, lat, lon) float32 0.0 0.0 0.0 0.0 0.0 0.0 ...\n",
       "    BTAUYSp02        (time, lev, lat, lon) float32 0.0 0.0 0.0 0.0 0.0 0.0 ...\n",
       "    BTAUYSp03        (time, lev, lat, lon) float32 0.0 0.0 0.0 0.0 0.0 0.0 ...\n",
       "    BTAUYSp04        (time, lev, lat, lon) float32 0.0 0.0 0.0 0.0 0.0 0.0 ...\n",
       "    BTAUYSp05        (time, lev, lat, lon) float32 0.0 0.0 0.0 0.0 0.0 0.0 ...\n",
       "    BTAUYSp06        (time, lev, lat, lon) float32 0.0 0.0 0.0 0.0 0.0 0.0 ...\n",
       "    BTAUYSp07        (time, lev, lat, lon) float32 0.0 0.0 0.0 0.0 0.0 0.0 ...\n",
       "    BTAUYSp08        (time, lev, lat, lon) float32 0.0 0.0 0.0 0.0 0.0 0.0 ...\n",
       "    BTAUYSp09        (time, lev, lat, lon) float32 0.0 0.0 0.0 0.0 0.0 0.0 ...\n",
       "    BTAUYSp10        (time, lev, lat, lon) float32 0.0 0.0 0.0 0.0 0.0 0.0 ...\n",
       "    BTAUYSp11        (time, lev, lat, lon) float32 0.0 0.0 0.0 0.0 0.0 0.0 ...\n",
       "    BTAUYSp12        (time, lev, lat, lon) float32 0.0 0.0 0.0 0.0 0.0 0.0 ...\n",
       "    BTAUYSp13        (time, lev, lat, lon) float32 0.0 0.0 0.0 0.0 0.0 0.0 ...\n",
       "    BTAUYSp14        (time, lev, lat, lon) float32 0.0 0.0 0.0 0.0 0.0 0.0 ...\n",
       "    BTAUYSp15        (time, lev, lat, lon) float32 0.0 0.0 0.0 0.0 0.0 0.0 ...\n",
       "    BTAUYSp16        (time, lev, lat, lon) float32 0.0 0.0 0.0 0.0 0.0 0.0 ...\n",
       "    BTAUYSp17        (time, lev, lat, lon) float32 0.0 0.0 0.0 0.0 0.0 0.0 ...\n",
       "    BTAUYSp18        (time, lev, lat, lon) float32 0.0 0.0 0.0 0.0 0.0 0.0 ...\n",
       "    BTAUYSp19        (time, lev, lat, lon) float32 0.0 0.0 0.0 0.0 0.0 0.0 ...\n",
       "    BTAUYSp20        (time, lev, lat, lon) float32 0.0 0.0 0.0 0.0 0.0 0.0 ...\n",
       "    BTAUYSp21        (time, lev, lat, lon) float32 0.0 0.0 0.0 0.0 0.0 0.0 ...\n",
       "    BTAUYSp22        (time, lev, lat, lon) float32 0.0 0.0 0.0 0.0 0.0 0.0 ...\n",
       "    BTAUYSp23        (time, lev, lat, lon) float32 0.0 0.0 0.0 0.0 0.0 0.0 ...\n",
       "    BTAUYSp24        (time, lev, lat, lon) float32 0.0 0.0 0.0 0.0 0.0 0.0 ...\n",
       "    BTAUYSp25        (time, lev, lat, lon) float32 0.0 0.0 0.0 0.0 0.0 0.0 ...\n",
       "    BTAUYSp26        (time, lev, lat, lon) float32 0.0 0.0 0.0 0.0 0.0 0.0 ...\n",
       "    BTAUYSp27        (time, lev, lat, lon) float32 0.0 0.0 0.0 0.0 0.0 0.0 ...\n",
       "    BTAUYSp28        (time, lev, lat, lon) float32 0.0 0.0 0.0 0.0 0.0 0.0 ...\n",
       "    BTAUYSp29        (time, lev, lat, lon) float32 0.0 0.0 0.0 0.0 0.0 0.0 ...\n",
       "    BTAUYSp30        (time, lev, lat, lon) float32 0.0 0.0 0.0 0.0 0.0 0.0 ...\n",
       "    BTAUYSp31        (time, lev, lat, lon) float32 0.0 0.0 0.0 0.0 0.0 0.0 ...\n",
       "    BTAUYSp32        (time, lev, lat, lon) float32 0.0 0.0 0.0 0.0 0.0 0.0 ...\n",
       "    CLOUDFRAC_CLUBB  (time, lev, lat, lon) float32 0.0 0.0 0.0 0.0 0.0 0.0 ...\n",
       "    MPDT             (time, lev, lat, lon) float32 0.0 0.0 0.0 0.0 0.0 0.0 ...\n",
       "    OMEGA            (time, lev, lat, lon) float32 1.21788e-08 1.62709e-08 ...\n",
       "    PCONVT           (time, lat, lon) float32 101707.0 101675.0 101647.0 ...\n",
       "    PRECC            (time, lat, lon) float32 0.0 0.0 0.0 0.0 0.0 0.0 0.0 ...\n",
       "    PRECL            (time, lat, lon) float32 7.9335e-10 2.32454e-10 ...\n",
       "    PRECT            (time, lat, lon) float32 7.9335e-10 2.32454e-10 ...\n",
       "    PS               (time, lat, lon) float32 101707.0 101675.0 101647.0 ...\n",
       "    STEND_CLUBB      (time, lev, lat, lon) float32 0.0 0.0 0.0 0.0 0.0 0.0 ...\n",
       "    T                (time, lev, lat, lon) float32 637.605 636.288 635.518 ...\n",
       "    U                (time, lev, lat, lon) float32 4.33354 6.54488 5.45789 ...\n",
       "    V                (time, lev, lat, lon) float32 -47.2095 -51.2462 ...\n",
       "    ZMDT             (time, lev, lat, lon) float32 0.0 0.0 0.0 0.0 0.0 0.0 ...\n",
       "Attributes:\n",
       "    Conventions:       CF-1.0\n",
       "    source:            CAM\n",
       "    case:              f.c54120.FWscHIST.f09_f09.gwdst\n",
       "    title:             UNSET\n",
       "    logname:           mcamron\n",
       "    host:              cheyenne4\n",
       "    Version:           $Name$\n",
       "    revision_Id:       $Id$\n",
       "    initial_file:      /glade/p/cesmdata/cseg/inputdata/atm/waccm/ic/f.e20.FW...\n",
       "    topography_file:   /glade/p/cesmdata/cseg/inputdata/atm/cam/topo/fv_0.9x1...\n",
       "    time_period_freq:  hour_1"
      ]
     },
     "execution_count": 3,
     "metadata": {},
     "output_type": "execute_result"
    }
   ],
   "source": [
    "#ds = xr.open_mfdataset('/glade/scratch/mcamron/archive/f.c54120.FWscHIST.f09_f09.gwdst/atm/hist/f.c54120.FWscHIST.f09_f09.gwdst.cam.h1.2002-07-*.nc')\n",
    "ds = xr.open_mfdataset('/data/clouds/drew/waccm/gwdst/f.c54120.FWscHIST.f09_f09.gwdst.cam.h1.2002-06-*-00000.nc', autoclose=True)\n",
    "ds = ds.sel(lat=slice(-20,20))\n",
    "ds"
   ]
  },
  {
   "cell_type": "markdown",
   "metadata": {},
   "source": [
    "## Distributions"
   ]
  },
  {
   "cell_type": "markdown",
   "metadata": {},
   "source": [
    "Importantly, below we began running into concerns regarding potential discretization of precip bins. Upon inspection, the raw data are precise to 8 decimal places and the bulk of the unconverted PRECT distribution remained continuous even up to 100000 bins."
   ]
  },
  {
   "cell_type": "code",
   "execution_count": 22,
   "metadata": {},
   "outputs": [
    {
     "name": "stdout",
     "output_type": "stream",
     "text": [
      "Max:        21.338 18.9716 3.99449\n",
      "% Nonzero:  0.927778122244 0.927578102036 0.489356444738\n"
     ]
    }
   ],
   "source": [
    "prect = ds.PRECT * 3.6e6  # Converting from m/s to mm/hr\n",
    "precl = ds.PRECL * 3.6e6\n",
    "precc = ds.PRECC * 3.6e6\n",
    "\n",
    "print('Max:       ', prect.values.max(), precl.values.max(), precc.values.max())\n",
    "print('% Nonzero: ',\n",
    "      prect.where(prect > 0).notnull().sum().values/prect.size, \n",
    "      precl.where(precl > 0).notnull().sum().values/precl.size,\n",
    "      precc.where(precc > 0).notnull().sum().values/precc.size)"
   ]
  },
  {
   "cell_type": "code",
   "execution_count": null,
   "metadata": {
    "collapsed": true,
    "scrolled": false
   },
   "outputs": [],
   "source": [
    "with sns.axes_style('ticks'):\n",
    "    f, ax = plt.subplots(figsize=(7,6))\n",
    "    prect.plot.hist(ax=ax, log=True, bins=np.arange(0, prect.values.max().round()+1, 0.5), histtype='step', linewidth=2, label='PRECT')\n",
    "    precl.plot.hist(ax=ax, log=True, bins=np.arange(0, precl.values.max().round()+1, 0.5), histtype='step', linewidth=2, label='PRECL')\n",
    "    precc.plot.hist(ax=ax, log=True, bins=np.arange(0, precc.values.max().round()+1, 0.5), histtype='step', linewidth=2, label='PRECC')\n",
    "    ax.legend()\n",
    "    ax.set_xlabel('Rain Rate [mm/hr]')\n",
    "    ax.set_title('Distribution of Precip Fields, 20' + u'\\N{DEGREE SIGN}' + 'S -- 20' + u'\\N{DEGREE SIGN}' + 'N, July 2002')\n",
    "\n",
    "    plt.tight_layout()\n",
    "    f.savefig('../figures/precip/dist_PREC.png')"
   ]
  },
  {
   "cell_type": "markdown",
   "metadata": {},
   "source": [
    "Here I inspected histograms excluding zeroes. However, at these scales, only the lowest PRECC bin was very minorly affected."
   ]
  },
  {
   "cell_type": "markdown",
   "metadata": {},
   "source": [
    "## Percentile analysis\n",
    "Here we will investigate the fractional contribution of our more extreme rain events.\n",
    "\n",
    "### PRECT"
   ]
  },
  {
   "cell_type": "code",
   "execution_count": null,
   "metadata": {
    "collapsed": true
   },
   "outputs": [],
   "source": [
    "prect_mean = prect.mean().values\n",
    "\n",
    "prect_90 = np.percentile(prect.values, 90)\n",
    "prect_90_tot = prect.values[np.where(prect.values > prect_90)].sum() / prect.values.sum()\n",
    "\n",
    "prect_99 = np.percentile(prect.values, 99)\n",
    "prect_99_tot = prect.values[np.where(prect.values > prect_99)].sum() / prect.values.sum()\n",
    "\n",
    "prect_999 = np.percentile(prect.values, 99.9)\n",
    "prect_999_tot = prect.values[np.where(prect.values > prect_999)].sum() / prect.values.sum()\n",
    "\n",
    "print('Mean:       ', str(prect_mean))\n",
    "print('Top 10%:    ', str(prect_90), ' / ', str(prect_90_tot*100), '%')\n",
    "print('Top 1%:     ', str(prect_99), ' / ', str(prect_99_tot*100), '%')\n",
    "print('Top 0.1%:   ', str(prect_999), ' / ', str(prect_999_tot*100), '%')"
   ]
  },
  {
   "cell_type": "markdown",
   "metadata": {},
   "source": [
    "`np.sort(prect.values.flatten())[int(0.9*prect.values.flatten().size)]` was used to manually verify this was providing the desired statistics. Statistics without zeroes barely increased all of the statistics."
   ]
  },
  {
   "cell_type": "markdown",
   "metadata": {},
   "source": [
    "### PRECL"
   ]
  },
  {
   "cell_type": "code",
   "execution_count": null,
   "metadata": {
    "collapsed": true
   },
   "outputs": [],
   "source": [
    "precl_mean = precl.values.mean()\n",
    "\n",
    "precl_90 = np.percentile(precl.values, 90)\n",
    "precl_90_tot = precl.values[np.where(precl.values > precl_90)].sum() / precl.values.sum()\n",
    "\n",
    "precl_99 = np.percentile(precl.values, 99)\n",
    "precl_99_tot = precl.values[np.where(precl.values > precl_99)].sum() / precl.values.sum()\n",
    "\n",
    "precl_999 = np.percentile(precl.values, 99.9)\n",
    "precl_999_tot = precl.values[np.where(precl.values > precl_999)].sum() / precl.values.sum()\n",
    "\n",
    "print('Mean:       '+str(precl_mean)+' (including zeroes)')\n",
    "print('Top 10%:    '+str(precl_90)+' / '+str(precl_90_tot*100)+'%')\n",
    "print('Top 1%:     '+str(precl_99)+' / '+str(precl_99_tot*100)+'%')\n",
    "print('Top 0.1%:   '+str(precl_999)+' / '+str(precl_999_tot*100)+'%')"
   ]
  },
  {
   "cell_type": "markdown",
   "metadata": {},
   "source": [
    "### PRECC"
   ]
  },
  {
   "cell_type": "code",
   "execution_count": null,
   "metadata": {
    "collapsed": true
   },
   "outputs": [],
   "source": [
    "precc_mean = precc.values.mean()\n",
    "\n",
    "precc_90 = np.percentile(precc.values, 90)\n",
    "precc_90_tot = precc.values[np.where(precc.values > precc_90)].sum() / precc.values.sum()\n",
    "\n",
    "precc_99 = np.percentile(precc.values, 99)\n",
    "precc_99_tot = precc.values[np.where(precc.values > precc_99)].sum() / precc.values.sum()\n",
    "\n",
    "precc_999 = np.percentile(precc.values, 99.9)\n",
    "precc_999_tot = precc.values[np.where(precc.values > precc_999)].sum() / precc.values.sum()\n",
    "\n",
    "print('Mean:       '+str(precc_mean)+' (including zeroes)')\n",
    "print('Top 10%:    '+str(precc_90)+' / '+str(precc_90_tot*100)+'%')\n",
    "print('Top 1%:     '+str(precc_99)+' / '+str(precc_99_tot*100)+'%')\n",
    "print('Top 0.1%:   '+str(precc_999)+' / '+str(precc_999_tot*100)+'%')"
   ]
  },
  {
   "cell_type": "markdown",
   "metadata": {},
   "source": [
    "#### Non-zero analysis\n",
    "Really only showed any difference in PRECC. Excluded elsewhere."
   ]
  },
  {
   "cell_type": "code",
   "execution_count": null,
   "metadata": {
    "collapsed": true
   },
   "outputs": [],
   "source": [
    "precc_mean = precc.where(precc > 0).mean(skipna=True).values\n",
    "\n",
    "precc_90 = np.nanpercentile(precc.where(precc > 0).values, 90)\n",
    "precc_90_tot = precc.values[np.where(precc.values > precc_90)].sum() / precc.values.sum()\n",
    "\n",
    "precc_99 = np.nanpercentile(precc.where(precc > 0).values, 99)\n",
    "precc_99_tot = precc.values[np.where(precc.values > precc_99)].sum() / precc.values.sum()\n",
    "\n",
    "precc_999 = np.nanpercentile(precc.where(precc > 0).values, 99.9)\n",
    "precc_999_tot = precc.values[np.where(precc.values > precc_999)].sum() / precc.values.sum()\n",
    "\n",
    "print('Mean:       '+str(precc_mean)+' (including zeroes)')\n",
    "print('Top 10%:    '+str(precc_90)+' / '+str(precc_90_tot*100)+'%')\n",
    "print('Top 1%:     '+str(precc_99)+' / '+str(precc_99_tot*100)+'%')\n",
    "print('Top 0.1%:   '+str(precc_999)+' / '+str(precc_999_tot*100)+'%')"
   ]
  },
  {
   "cell_type": "markdown",
   "metadata": {},
   "source": [
    "## Maps\n",
    "\n",
    "### Initial Maps"
   ]
  },
  {
   "cell_type": "code",
   "execution_count": null,
   "metadata": {
    "collapsed": true
   },
   "outputs": [],
   "source": [
    "print(precc.mean(dim='time').max().values, precl.mean(dim='time').max().values, prect.mean(dim='time').max().values)"
   ]
  },
  {
   "cell_type": "code",
   "execution_count": null,
   "metadata": {
    "collapsed": true,
    "scrolled": false
   },
   "outputs": [],
   "source": [
    "f, (ax1, ax2, ax3) = plt.subplots(3, 1, squeeze=True, figsize=(18,12), subplot_kw=dict(projection=ccrs.PlateCarree(central_longitude=180)))\n",
    "p = precc.mean(dim='time').plot(ax=ax1, transform=ccrs.PlateCarree(), vmax=1.9, cbar_kwargs=dict(shrink=0.3, pad=0.025))#, cmap=sns.color_palette(\"Greens\"))\n",
    "q = precl.mean(dim='time').plot(ax=ax2, transform=ccrs.PlateCarree(), vmax=1.9, cbar_kwargs=dict(shrink=0.3, pad=0.025))#, cmap=sns.color_palette(\"Greens\"))\n",
    "r = prect.mean(dim='time').plot(ax=ax3, transform=ccrs.PlateCarree(), vmax=1.9, cbar_kwargs=dict(shrink=0.3, pad=0.025))#, cmap=sns.color_palette(\"Greens\"))\n",
    "\n",
    "ax1.coastlines()\n",
    "ax2.coastlines()\n",
    "ax3.coastlines()\n",
    "\n",
    "ax1.set_title('Maps of Precip Fields, July 2002')\n",
    "\n",
    "plt.tight_layout(h_pad=0)\n",
    "\n",
    "f.savefig('../figures/precip/precip_maps.png')"
   ]
  },
  {
   "cell_type": "markdown",
   "metadata": {},
   "source": [
    "### Contribution of PRECC to PRECT"
   ]
  },
  {
   "cell_type": "code",
   "execution_count": null,
   "metadata": {
    "collapsed": true,
    "scrolled": false
   },
   "outputs": [],
   "source": [
    "pcfrac = precc.where(prect > 0) / prect.where(prect > 0)\n",
    "\n",
    "f, ax = plt.subplots(figsize=(18,4), subplot_kw=dict(projection=ccrs.PlateCarree(central_longitude=180)))\n",
    "p = pcfrac.mean(dim='time').plot.contourf(ax=ax, transform=ccrs.PlateCarree(), add_colorbar=False, levels=11, colors=sns.color_palette(\"Blues\", 10))\n",
    "ax.coastlines()\n",
    "cbar = plt.colorbar(p, ax=ax, orientation='horizontal', shrink=0.4, pad=0.025)\n",
    "\n",
    "ax.set_title('Average Fractional contribution of convective precipitation (PRECC) to the total (PRECT), July 2002')\n",
    "\n",
    "f.savefig('../figures/precip/pcfrac.png')"
   ]
  },
  {
   "cell_type": "code",
   "execution_count": null,
   "metadata": {
    "collapsed": true
   },
   "outputs": [],
   "source": [
    "pcfrac.where(pcfrac > 0.5).notnull().sum().values / pcfrac.notnull().sum().values"
   ]
  },
  {
   "cell_type": "markdown",
   "metadata": {},
   "source": [
    "### Locations of high-intensity events"
   ]
  },
  {
   "cell_type": "code",
   "execution_count": null,
   "metadata": {
    "collapsed": true
   },
   "outputs": [],
   "source": [
    "ptfreq = prect.where(prect > prect_99).notnull().sum(dim='time') / prect.time.size\n",
    "f, ax = plt.subplots(figsize=(18,4), subplot_kw=dict(projection=ccrs.PlateCarree(central_longitude=180)))\n",
    "p = ptfreq.plot.contourf(ax=ax, transform=ccrs.PlateCarree(), add_colorbar=False, colors=sns.color_palette(\"Reds\"))\n",
    "ax.coastlines()\n",
    "cbar = plt.colorbar(p, ax=ax, orientation='horizontal', shrink=0.4, pad=0.025)\n",
    "\n",
    "ax.set_title('Normalized frequency of 99th-percentile PRECT events, July 2002')\n",
    "\n",
    "f.savefig('../figures/precip/pcfreq.png')"
   ]
  }
 ],
 "metadata": {
  "kernelspec": {
   "display_name": "Python 3",
   "language": "python",
   "name": "python3"
  },
  "language_info": {
   "codemirror_mode": {
    "name": "ipython",
    "version": 3
   },
   "file_extension": ".py",
   "mimetype": "text/x-python",
   "name": "python",
   "nbconvert_exporter": "python",
   "pygments_lexer": "ipython3",
   "version": "3.6.2"
  }
 },
 "nbformat": 4,
 "nbformat_minor": 2
}
